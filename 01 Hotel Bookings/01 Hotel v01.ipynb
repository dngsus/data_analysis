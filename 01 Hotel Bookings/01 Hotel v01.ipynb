{
 "cells": [
  {
   "cell_type": "markdown",
   "metadata": {},
   "source": [
    "# Summary"
   ]
  },
  {
   "cell_type": "markdown",
   "metadata": {},
   "source": [
    "**Action Points**\n",
    "\n",
    "**1) Prioritize retention and risk mitigation in the \"Online TA\" segment**<br>\n",
    "- Accounts for >50% of all successful bookings\n",
    "- Has been more volatile in 2020 YTD versus equivalent dates 2019:\n",
    "    - 32% rise in cancellations, therefore responsible for 106% of increase in cancellations\n",
    "- Stabilising this segment is critical to maintaining overall booking volume and revenue consistency\n",
    "\n",
    "**2) Reassess strategy for the \"Offline TA/TO\" segment**<br>\n",
    "- Improvement in cancellations (-20%) in 2020 YTD versus equivalent dates 2019\n",
    "- However, number of actual revenue-generating bookings dropped 36% - this is the biggest contributor to the 2020 YTD revenue shortfall, as this segment makes up about 23% of successful bookings (completed, or cancelled and non-refundable)\n",
    "- Revival is a high priority\n",
    "- Ideas examples:\n",
    "    - Increased engagement with travel agents\n",
    "    - Review of channel-specific pricing and package offerings\n",
    "\n",
    "**3) Investigate root causes of longer lead times in general**<br>\n",
    "- Whilst lead times for completed bookings have increased, so too have lead times for cancelled bookings, in 2020 YTD versus equivalent dates 2019.\n",
    "- I.e. indicator of potential fragility: disturbs confidence in long-term revenue forecasting and management\n",
    "- Possibility: previously introduced feature unintentially made reservations more tentative"
   ]
  },
  {
   "cell_type": "markdown",
   "metadata": {},
   "source": [
    "**Fly-by:**\n",
    "\n",
    "1) Revenue for 2018 (partial) far surpassed by equivalent-period 2019\n",
    "- Main driver is number of bookings, not increased value of bookings\n",
    "    - Especially in market segment **\"Online TA\"**, but also worth highlighting **\"Offline TA/TO\"** and **\"Direct\"**\n",
    "\n",
    "2) YTD revenue 2020 almost matches that of equivalent-period 2019\n",
    "- Sustainable: consistent month-by-month revenue growth in 2020\n",
    "- Same three important market segments as mentioned above contributed proportionally to overall number of bookings as much in both 2019 and 2020\n",
    "- However, number of revenue-generating bookings by secondary key segment \"Offline TA/TO\" decreased 36% in 2020 YTD vs 2019 YTD - _action point 2_\n",
    "\n",
    "3) Encouraging: though number of bookings overall decreased, quality went up (\"quality booking\" := generated revenue)\n",
    "\n",
    "4) Encouraging: longer average lead times in 2020 vs 2019, both overall and specifically in reference to those 3 major segments\n",
    "- However,  lead time of cancelled bookings increased too, again for all 3 major segments - _action point 3_\n",
    "\n",
    "5) (4) is especially noteworthy given the completion rate of bookings fell and actual number of cancellations rose in general, and most apparently in the key segment \"Online TA\" - _action point 1_"
   ]
  },
  {
   "cell_type": "markdown",
   "metadata": {},
   "source": [
    "# Preamble"
   ]
  },
  {
   "cell_type": "markdown",
   "metadata": {},
   "source": [
    "Dataset outline: 2018 - 2020 bookings for Hotel portfolio<br>\n",
    "https://absentdata.com/data-analysis/where-to-find-data/<br>\n",
    "\n",
    "Additional info on definitions:<br>\n",
    "https://github.com/rfordatascience/tidytuesday/blob/main/data/2020/2020-02-11/readme.md\n",
    "- Concat this data in future revisions"
   ]
  },
  {
   "cell_type": "markdown",
   "metadata": {},
   "source": [
    "High-level findings and recommendations:\n"
   ]
  },
  {
   "cell_type": "markdown",
   "metadata": {},
   "source": [
    "Summary of concerns and assumptions:\n",
    "1) Assume SC meals (self-catered) have not had their price written in error, despite somehow costing more than full-board\n",
    "2) Assume 'adr' (avg daily rate) is to be multiplied by nights stayed to find overall room rental revenue per booking, exclusive of meal costs\n",
    "- See source: \"Average Daily Rate as defined by dividing the sum of all lodging transactions by the total number of staying nights\"\n",
    "3) Assume meals are applied to every non-baby guest in the same booking, for every day (nights + 1) spent\n",
    "4) Assume Null children --> 0 children\n",
    "5) Assume no money made from cancelled bookings. Or rather, do admit possibility of reclaiming deposits, but assess revenues of strictly completed bookings first\n",
    "6) Assume bookings of zero pax are unsuable data\n",
    "7) Assume bookings with zero adr (avg daily rate) yet which are not cancelled are unusable data"
   ]
  },
  {
   "cell_type": "markdown",
   "metadata": {},
   "source": [
    "# Prelim"
   ]
  },
  {
   "cell_type": "code",
   "execution_count": 2,
   "metadata": {},
   "outputs": [],
   "source": [
    "import pandas as pd\n",
    "import matplotlib.pyplot as plt\n",
    "import seaborn as sns\n",
    "import numpy as np"
   ]
  },
  {
   "cell_type": "code",
   "execution_count": 3,
   "metadata": {},
   "outputs": [],
   "source": [
    "# Remove scientific notation in larger figures\n",
    "pd.options.display.float_format = '{:.2f}'.format"
   ]
  },
  {
   "cell_type": "markdown",
   "metadata": {},
   "source": [
    "## Load Data"
   ]
  },
  {
   "cell_type": "code",
   "execution_count": 4,
   "metadata": {},
   "outputs": [],
   "source": [
    "# 2018 to 2020\n",
    "# sheet_name = None --> all worksheets\n",
    "df1 = pd.read_excel(r\"D:\\Code\\Data Analysis\\01 Hotel Revenue\\hotel_revenue_historical_full-2.xlsx\", sheet_name = None)"
   ]
  },
  {
   "cell_type": "code",
   "execution_count": 5,
   "metadata": {},
   "outputs": [],
   "source": [
    "# 2015 to 2017\n",
    "df2 = pd.read_csv(r\"D:\\Code\\Data Analysis\\01 Hotel Revenue\\hotels.csv\")"
   ]
  },
  {
   "cell_type": "code",
   "execution_count": 6,
   "metadata": {},
   "outputs": [],
   "source": [
    "# Concat sheets within df1, having verified in source that columns match. Also from df2.\n",
    "# ---> Consolidated fact table of bookings data 2015 to 2020\n",
    "df_main = pd.concat([df1['2018'], df1['2019'], df1['2020'], df2])\n",
    "pd.set_option(\"display.max.columns\", 50)"
   ]
  },
  {
   "cell_type": "code",
   "execution_count": 7,
   "metadata": {},
   "outputs": [
    {
     "data": {
      "text/html": [
       "<div>\n",
       "<style scoped>\n",
       "    .dataframe tbody tr th:only-of-type {\n",
       "        vertical-align: middle;\n",
       "    }\n",
       "\n",
       "    .dataframe tbody tr th {\n",
       "        vertical-align: top;\n",
       "    }\n",
       "\n",
       "    .dataframe thead th {\n",
       "        text-align: right;\n",
       "    }\n",
       "</style>\n",
       "<table border=\"1\" class=\"dataframe\">\n",
       "  <thead>\n",
       "    <tr style=\"text-align: right;\">\n",
       "      <th></th>\n",
       "      <th>hotel</th>\n",
       "      <th>is_canceled</th>\n",
       "      <th>lead_time</th>\n",
       "      <th>arrival_date_year</th>\n",
       "      <th>arrival_date_month</th>\n",
       "      <th>arrival_date_week_number</th>\n",
       "      <th>arrival_date_day_of_month</th>\n",
       "      <th>stays_in_weekend_nights</th>\n",
       "      <th>stays_in_week_nights</th>\n",
       "      <th>adults</th>\n",
       "      <th>children</th>\n",
       "      <th>babies</th>\n",
       "      <th>meal</th>\n",
       "      <th>country</th>\n",
       "      <th>market_segment</th>\n",
       "      <th>distribution_channel</th>\n",
       "      <th>is_repeated_guest</th>\n",
       "      <th>previous_cancellations</th>\n",
       "      <th>previous_bookings_not_canceled</th>\n",
       "      <th>reserved_room_type</th>\n",
       "      <th>assigned_room_type</th>\n",
       "      <th>booking_changes</th>\n",
       "      <th>deposit_type</th>\n",
       "      <th>agent</th>\n",
       "      <th>company</th>\n",
       "      <th>days_in_waiting_list</th>\n",
       "      <th>customer_type</th>\n",
       "      <th>adr</th>\n",
       "      <th>required_car_parking_spaces</th>\n",
       "      <th>total_of_special_requests</th>\n",
       "      <th>reservation_status</th>\n",
       "      <th>reservation_status_date</th>\n",
       "    </tr>\n",
       "  </thead>\n",
       "  <tbody>\n",
       "    <tr>\n",
       "      <th>7951</th>\n",
       "      <td>Resort Hotel</td>\n",
       "      <td>0</td>\n",
       "      <td>342</td>\n",
       "      <td>2018</td>\n",
       "      <td>July</td>\n",
       "      <td>27</td>\n",
       "      <td>1</td>\n",
       "      <td>0</td>\n",
       "      <td>0</td>\n",
       "      <td>2</td>\n",
       "      <td>0.00</td>\n",
       "      <td>0</td>\n",
       "      <td>BB</td>\n",
       "      <td>PRT</td>\n",
       "      <td>Direct</td>\n",
       "      <td>Direct</td>\n",
       "      <td>0</td>\n",
       "      <td>0</td>\n",
       "      <td>0</td>\n",
       "      <td>C</td>\n",
       "      <td>C</td>\n",
       "      <td>3</td>\n",
       "      <td>No Deposit</td>\n",
       "      <td>NaN</td>\n",
       "      <td>NaN</td>\n",
       "      <td>0</td>\n",
       "      <td>Transient</td>\n",
       "      <td>0.00</td>\n",
       "      <td>0</td>\n",
       "      <td>0</td>\n",
       "      <td>Check-Out</td>\n",
       "      <td>2018-07-01 00:00:00</td>\n",
       "    </tr>\n",
       "    <tr>\n",
       "      <th>7952</th>\n",
       "      <td>Resort Hotel</td>\n",
       "      <td>0</td>\n",
       "      <td>737</td>\n",
       "      <td>2018</td>\n",
       "      <td>July</td>\n",
       "      <td>27</td>\n",
       "      <td>1</td>\n",
       "      <td>0</td>\n",
       "      <td>0</td>\n",
       "      <td>2</td>\n",
       "      <td>0.00</td>\n",
       "      <td>0</td>\n",
       "      <td>BB</td>\n",
       "      <td>PRT</td>\n",
       "      <td>Direct</td>\n",
       "      <td>Direct</td>\n",
       "      <td>0</td>\n",
       "      <td>0</td>\n",
       "      <td>0</td>\n",
       "      <td>C</td>\n",
       "      <td>C</td>\n",
       "      <td>4</td>\n",
       "      <td>No Deposit</td>\n",
       "      <td>NaN</td>\n",
       "      <td>NaN</td>\n",
       "      <td>0</td>\n",
       "      <td>Transient</td>\n",
       "      <td>0.00</td>\n",
       "      <td>0</td>\n",
       "      <td>0</td>\n",
       "      <td>Check-Out</td>\n",
       "      <td>2018-07-01 00:00:00</td>\n",
       "    </tr>\n",
       "    <tr>\n",
       "      <th>7953</th>\n",
       "      <td>Resort Hotel</td>\n",
       "      <td>0</td>\n",
       "      <td>7</td>\n",
       "      <td>2018</td>\n",
       "      <td>July</td>\n",
       "      <td>27</td>\n",
       "      <td>1</td>\n",
       "      <td>0</td>\n",
       "      <td>1</td>\n",
       "      <td>1</td>\n",
       "      <td>0.00</td>\n",
       "      <td>0</td>\n",
       "      <td>BB</td>\n",
       "      <td>GBR</td>\n",
       "      <td>Direct</td>\n",
       "      <td>Direct</td>\n",
       "      <td>0</td>\n",
       "      <td>0</td>\n",
       "      <td>0</td>\n",
       "      <td>A</td>\n",
       "      <td>C</td>\n",
       "      <td>0</td>\n",
       "      <td>No Deposit</td>\n",
       "      <td>NaN</td>\n",
       "      <td>NaN</td>\n",
       "      <td>0</td>\n",
       "      <td>Transient</td>\n",
       "      <td>75.00</td>\n",
       "      <td>0</td>\n",
       "      <td>0</td>\n",
       "      <td>Check-Out</td>\n",
       "      <td>2018-07-02 00:00:00</td>\n",
       "    </tr>\n",
       "    <tr>\n",
       "      <th>7954</th>\n",
       "      <td>Resort Hotel</td>\n",
       "      <td>0</td>\n",
       "      <td>13</td>\n",
       "      <td>2018</td>\n",
       "      <td>July</td>\n",
       "      <td>27</td>\n",
       "      <td>1</td>\n",
       "      <td>0</td>\n",
       "      <td>1</td>\n",
       "      <td>1</td>\n",
       "      <td>0.00</td>\n",
       "      <td>0</td>\n",
       "      <td>BB</td>\n",
       "      <td>GBR</td>\n",
       "      <td>Corporate</td>\n",
       "      <td>Corporate</td>\n",
       "      <td>0</td>\n",
       "      <td>0</td>\n",
       "      <td>0</td>\n",
       "      <td>A</td>\n",
       "      <td>A</td>\n",
       "      <td>0</td>\n",
       "      <td>No Deposit</td>\n",
       "      <td>304.00</td>\n",
       "      <td>NaN</td>\n",
       "      <td>0</td>\n",
       "      <td>Transient</td>\n",
       "      <td>75.00</td>\n",
       "      <td>0</td>\n",
       "      <td>0</td>\n",
       "      <td>Check-Out</td>\n",
       "      <td>2018-07-02 00:00:00</td>\n",
       "    </tr>\n",
       "    <tr>\n",
       "      <th>7955</th>\n",
       "      <td>Resort Hotel</td>\n",
       "      <td>0</td>\n",
       "      <td>14</td>\n",
       "      <td>2018</td>\n",
       "      <td>July</td>\n",
       "      <td>27</td>\n",
       "      <td>1</td>\n",
       "      <td>0</td>\n",
       "      <td>2</td>\n",
       "      <td>2</td>\n",
       "      <td>0.00</td>\n",
       "      <td>0</td>\n",
       "      <td>BB</td>\n",
       "      <td>GBR</td>\n",
       "      <td>Online TA</td>\n",
       "      <td>TA/TO</td>\n",
       "      <td>0</td>\n",
       "      <td>0</td>\n",
       "      <td>0</td>\n",
       "      <td>A</td>\n",
       "      <td>A</td>\n",
       "      <td>0</td>\n",
       "      <td>No Deposit</td>\n",
       "      <td>240.00</td>\n",
       "      <td>NaN</td>\n",
       "      <td>0</td>\n",
       "      <td>Transient</td>\n",
       "      <td>98.00</td>\n",
       "      <td>0</td>\n",
       "      <td>1</td>\n",
       "      <td>Check-Out</td>\n",
       "      <td>2018-07-03 00:00:00</td>\n",
       "    </tr>\n",
       "    <tr>\n",
       "      <th>7956</th>\n",
       "      <td>Resort Hotel</td>\n",
       "      <td>0</td>\n",
       "      <td>14</td>\n",
       "      <td>2018</td>\n",
       "      <td>July</td>\n",
       "      <td>27</td>\n",
       "      <td>1</td>\n",
       "      <td>0</td>\n",
       "      <td>2</td>\n",
       "      <td>2</td>\n",
       "      <td>0.00</td>\n",
       "      <td>0</td>\n",
       "      <td>BB</td>\n",
       "      <td>GBR</td>\n",
       "      <td>Online TA</td>\n",
       "      <td>TA/TO</td>\n",
       "      <td>0</td>\n",
       "      <td>0</td>\n",
       "      <td>0</td>\n",
       "      <td>A</td>\n",
       "      <td>A</td>\n",
       "      <td>0</td>\n",
       "      <td>No Deposit</td>\n",
       "      <td>240.00</td>\n",
       "      <td>NaN</td>\n",
       "      <td>0</td>\n",
       "      <td>Transient</td>\n",
       "      <td>98.00</td>\n",
       "      <td>0</td>\n",
       "      <td>1</td>\n",
       "      <td>Check-Out</td>\n",
       "      <td>2018-07-03 00:00:00</td>\n",
       "    </tr>\n",
       "    <tr>\n",
       "      <th>7957</th>\n",
       "      <td>Resort Hotel</td>\n",
       "      <td>0</td>\n",
       "      <td>0</td>\n",
       "      <td>2018</td>\n",
       "      <td>July</td>\n",
       "      <td>27</td>\n",
       "      <td>1</td>\n",
       "      <td>0</td>\n",
       "      <td>2</td>\n",
       "      <td>2</td>\n",
       "      <td>0.00</td>\n",
       "      <td>0</td>\n",
       "      <td>BB</td>\n",
       "      <td>PRT</td>\n",
       "      <td>Direct</td>\n",
       "      <td>Direct</td>\n",
       "      <td>0</td>\n",
       "      <td>0</td>\n",
       "      <td>0</td>\n",
       "      <td>C</td>\n",
       "      <td>C</td>\n",
       "      <td>0</td>\n",
       "      <td>No Deposit</td>\n",
       "      <td>NaN</td>\n",
       "      <td>NaN</td>\n",
       "      <td>0</td>\n",
       "      <td>Transient</td>\n",
       "      <td>107.00</td>\n",
       "      <td>0</td>\n",
       "      <td>0</td>\n",
       "      <td>Check-Out</td>\n",
       "      <td>2018-07-03 00:00:00</td>\n",
       "    </tr>\n",
       "    <tr>\n",
       "      <th>7958</th>\n",
       "      <td>Resort Hotel</td>\n",
       "      <td>0</td>\n",
       "      <td>9</td>\n",
       "      <td>2018</td>\n",
       "      <td>July</td>\n",
       "      <td>27</td>\n",
       "      <td>1</td>\n",
       "      <td>0</td>\n",
       "      <td>2</td>\n",
       "      <td>2</td>\n",
       "      <td>0.00</td>\n",
       "      <td>0</td>\n",
       "      <td>FB</td>\n",
       "      <td>PRT</td>\n",
       "      <td>Direct</td>\n",
       "      <td>Direct</td>\n",
       "      <td>0</td>\n",
       "      <td>0</td>\n",
       "      <td>0</td>\n",
       "      <td>C</td>\n",
       "      <td>C</td>\n",
       "      <td>0</td>\n",
       "      <td>No Deposit</td>\n",
       "      <td>303.00</td>\n",
       "      <td>NaN</td>\n",
       "      <td>0</td>\n",
       "      <td>Transient</td>\n",
       "      <td>103.00</td>\n",
       "      <td>0</td>\n",
       "      <td>1</td>\n",
       "      <td>Check-Out</td>\n",
       "      <td>2018-07-03 00:00:00</td>\n",
       "    </tr>\n",
       "    <tr>\n",
       "      <th>7959</th>\n",
       "      <td>Resort Hotel</td>\n",
       "      <td>0</td>\n",
       "      <td>35</td>\n",
       "      <td>2018</td>\n",
       "      <td>July</td>\n",
       "      <td>27</td>\n",
       "      <td>1</td>\n",
       "      <td>0</td>\n",
       "      <td>4</td>\n",
       "      <td>2</td>\n",
       "      <td>0.00</td>\n",
       "      <td>0</td>\n",
       "      <td>HB</td>\n",
       "      <td>PRT</td>\n",
       "      <td>Online TA</td>\n",
       "      <td>TA/TO</td>\n",
       "      <td>0</td>\n",
       "      <td>0</td>\n",
       "      <td>0</td>\n",
       "      <td>D</td>\n",
       "      <td>D</td>\n",
       "      <td>0</td>\n",
       "      <td>No Deposit</td>\n",
       "      <td>240.00</td>\n",
       "      <td>NaN</td>\n",
       "      <td>0</td>\n",
       "      <td>Transient</td>\n",
       "      <td>145.00</td>\n",
       "      <td>0</td>\n",
       "      <td>0</td>\n",
       "      <td>Check-Out</td>\n",
       "      <td>2018-07-05 00:00:00</td>\n",
       "    </tr>\n",
       "    <tr>\n",
       "      <th>7960</th>\n",
       "      <td>Resort Hotel</td>\n",
       "      <td>0</td>\n",
       "      <td>68</td>\n",
       "      <td>2018</td>\n",
       "      <td>July</td>\n",
       "      <td>27</td>\n",
       "      <td>1</td>\n",
       "      <td>0</td>\n",
       "      <td>4</td>\n",
       "      <td>2</td>\n",
       "      <td>0.00</td>\n",
       "      <td>0</td>\n",
       "      <td>BB</td>\n",
       "      <td>USA</td>\n",
       "      <td>Online TA</td>\n",
       "      <td>TA/TO</td>\n",
       "      <td>0</td>\n",
       "      <td>0</td>\n",
       "      <td>0</td>\n",
       "      <td>D</td>\n",
       "      <td>E</td>\n",
       "      <td>0</td>\n",
       "      <td>No Deposit</td>\n",
       "      <td>240.00</td>\n",
       "      <td>NaN</td>\n",
       "      <td>0</td>\n",
       "      <td>Transient</td>\n",
       "      <td>97.00</td>\n",
       "      <td>0</td>\n",
       "      <td>3</td>\n",
       "      <td>Check-Out</td>\n",
       "      <td>2018-07-05 00:00:00</td>\n",
       "    </tr>\n",
       "  </tbody>\n",
       "</table>\n",
       "</div>"
      ],
      "text/plain": [
       "             hotel  is_canceled  lead_time  arrival_date_year  \\\n",
       "7951  Resort Hotel            0        342               2018   \n",
       "7952  Resort Hotel            0        737               2018   \n",
       "7953  Resort Hotel            0          7               2018   \n",
       "7954  Resort Hotel            0         13               2018   \n",
       "7955  Resort Hotel            0         14               2018   \n",
       "7956  Resort Hotel            0         14               2018   \n",
       "7957  Resort Hotel            0          0               2018   \n",
       "7958  Resort Hotel            0          9               2018   \n",
       "7959  Resort Hotel            0         35               2018   \n",
       "7960  Resort Hotel            0         68               2018   \n",
       "\n",
       "     arrival_date_month  arrival_date_week_number  arrival_date_day_of_month  \\\n",
       "7951               July                        27                          1   \n",
       "7952               July                        27                          1   \n",
       "7953               July                        27                          1   \n",
       "7954               July                        27                          1   \n",
       "7955               July                        27                          1   \n",
       "7956               July                        27                          1   \n",
       "7957               July                        27                          1   \n",
       "7958               July                        27                          1   \n",
       "7959               July                        27                          1   \n",
       "7960               July                        27                          1   \n",
       "\n",
       "      stays_in_weekend_nights  stays_in_week_nights  adults  children  babies  \\\n",
       "7951                        0                     0       2      0.00       0   \n",
       "7952                        0                     0       2      0.00       0   \n",
       "7953                        0                     1       1      0.00       0   \n",
       "7954                        0                     1       1      0.00       0   \n",
       "7955                        0                     2       2      0.00       0   \n",
       "7956                        0                     2       2      0.00       0   \n",
       "7957                        0                     2       2      0.00       0   \n",
       "7958                        0                     2       2      0.00       0   \n",
       "7959                        0                     4       2      0.00       0   \n",
       "7960                        0                     4       2      0.00       0   \n",
       "\n",
       "     meal country market_segment distribution_channel  is_repeated_guest  \\\n",
       "7951   BB     PRT         Direct               Direct                  0   \n",
       "7952   BB     PRT         Direct               Direct                  0   \n",
       "7953   BB     GBR         Direct               Direct                  0   \n",
       "7954   BB     GBR      Corporate            Corporate                  0   \n",
       "7955   BB     GBR      Online TA                TA/TO                  0   \n",
       "7956   BB     GBR      Online TA                TA/TO                  0   \n",
       "7957   BB     PRT         Direct               Direct                  0   \n",
       "7958   FB     PRT         Direct               Direct                  0   \n",
       "7959   HB     PRT      Online TA                TA/TO                  0   \n",
       "7960   BB     USA      Online TA                TA/TO                  0   \n",
       "\n",
       "      previous_cancellations  previous_bookings_not_canceled  \\\n",
       "7951                       0                               0   \n",
       "7952                       0                               0   \n",
       "7953                       0                               0   \n",
       "7954                       0                               0   \n",
       "7955                       0                               0   \n",
       "7956                       0                               0   \n",
       "7957                       0                               0   \n",
       "7958                       0                               0   \n",
       "7959                       0                               0   \n",
       "7960                       0                               0   \n",
       "\n",
       "     reserved_room_type assigned_room_type  booking_changes deposit_type  \\\n",
       "7951                  C                  C                3   No Deposit   \n",
       "7952                  C                  C                4   No Deposit   \n",
       "7953                  A                  C                0   No Deposit   \n",
       "7954                  A                  A                0   No Deposit   \n",
       "7955                  A                  A                0   No Deposit   \n",
       "7956                  A                  A                0   No Deposit   \n",
       "7957                  C                  C                0   No Deposit   \n",
       "7958                  C                  C                0   No Deposit   \n",
       "7959                  D                  D                0   No Deposit   \n",
       "7960                  D                  E                0   No Deposit   \n",
       "\n",
       "      agent  company  days_in_waiting_list customer_type    adr  \\\n",
       "7951    NaN      NaN                     0     Transient   0.00   \n",
       "7952    NaN      NaN                     0     Transient   0.00   \n",
       "7953    NaN      NaN                     0     Transient  75.00   \n",
       "7954 304.00      NaN                     0     Transient  75.00   \n",
       "7955 240.00      NaN                     0     Transient  98.00   \n",
       "7956 240.00      NaN                     0     Transient  98.00   \n",
       "7957    NaN      NaN                     0     Transient 107.00   \n",
       "7958 303.00      NaN                     0     Transient 103.00   \n",
       "7959 240.00      NaN                     0     Transient 145.00   \n",
       "7960 240.00      NaN                     0     Transient  97.00   \n",
       "\n",
       "      required_car_parking_spaces  total_of_special_requests  \\\n",
       "7951                            0                          0   \n",
       "7952                            0                          0   \n",
       "7953                            0                          0   \n",
       "7954                            0                          0   \n",
       "7955                            0                          1   \n",
       "7956                            0                          1   \n",
       "7957                            0                          0   \n",
       "7958                            0                          1   \n",
       "7959                            0                          0   \n",
       "7960                            0                          3   \n",
       "\n",
       "     reservation_status reservation_status_date  \n",
       "7951          Check-Out     2018-07-01 00:00:00  \n",
       "7952          Check-Out     2018-07-01 00:00:00  \n",
       "7953          Check-Out     2018-07-02 00:00:00  \n",
       "7954          Check-Out     2018-07-02 00:00:00  \n",
       "7955          Check-Out     2018-07-03 00:00:00  \n",
       "7956          Check-Out     2018-07-03 00:00:00  \n",
       "7957          Check-Out     2018-07-03 00:00:00  \n",
       "7958          Check-Out     2018-07-03 00:00:00  \n",
       "7959          Check-Out     2018-07-05 00:00:00  \n",
       "7960          Check-Out     2018-07-05 00:00:00  "
      ]
     },
     "execution_count": 7,
     "metadata": {},
     "output_type": "execute_result"
    }
   ],
   "source": [
    "df_main[df_main[\"is_canceled\"] == 0].head(10)"
   ]
  },
  {
   "cell_type": "code",
   "execution_count": 8,
   "metadata": {},
   "outputs": [
    {
     "data": {
      "text/html": [
       "<div>\n",
       "<style scoped>\n",
       "    .dataframe tbody tr th:only-of-type {\n",
       "        vertical-align: middle;\n",
       "    }\n",
       "\n",
       "    .dataframe tbody tr th {\n",
       "        vertical-align: top;\n",
       "    }\n",
       "\n",
       "    .dataframe thead th {\n",
       "        text-align: right;\n",
       "    }\n",
       "</style>\n",
       "<table border=\"1\" class=\"dataframe\">\n",
       "  <thead>\n",
       "    <tr style=\"text-align: right;\">\n",
       "      <th></th>\n",
       "      <th>Cost</th>\n",
       "      <th>meal</th>\n",
       "    </tr>\n",
       "  </thead>\n",
       "  <tbody>\n",
       "    <tr>\n",
       "      <th>0</th>\n",
       "      <td>0.00</td>\n",
       "      <td>Undefined</td>\n",
       "    </tr>\n",
       "    <tr>\n",
       "      <th>1</th>\n",
       "      <td>12.99</td>\n",
       "      <td>BB</td>\n",
       "    </tr>\n",
       "    <tr>\n",
       "      <th>2</th>\n",
       "      <td>17.99</td>\n",
       "      <td>HB</td>\n",
       "    </tr>\n",
       "    <tr>\n",
       "      <th>3</th>\n",
       "      <td>21.99</td>\n",
       "      <td>FB</td>\n",
       "    </tr>\n",
       "    <tr>\n",
       "      <th>4</th>\n",
       "      <td>35.00</td>\n",
       "      <td>SC</td>\n",
       "    </tr>\n",
       "  </tbody>\n",
       "</table>\n",
       "</div>"
      ],
      "text/plain": [
       "   Cost       meal\n",
       "0  0.00  Undefined\n",
       "1 12.99         BB\n",
       "2 17.99         HB\n",
       "3 21.99         FB\n",
       "4 35.00         SC"
      ]
     },
     "execution_count": 8,
     "metadata": {},
     "output_type": "execute_result"
    }
   ],
   "source": [
    "# Dimension table 1\n",
    "# Typically would assume SC (self-catered) --> cheaper\n",
    "# Seems not the case this time. Raise concern of error, but go along with it (do not drop SC or any such action)\n",
    "\n",
    "df_meal_cost = df1['meal_cost']\n",
    "df_meal_cost"
   ]
  },
  {
   "cell_type": "code",
   "execution_count": 9,
   "metadata": {},
   "outputs": [
    {
     "data": {
      "text/html": [
       "<div>\n",
       "<style scoped>\n",
       "    .dataframe tbody tr th:only-of-type {\n",
       "        vertical-align: middle;\n",
       "    }\n",
       "\n",
       "    .dataframe tbody tr th {\n",
       "        vertical-align: top;\n",
       "    }\n",
       "\n",
       "    .dataframe thead th {\n",
       "        text-align: right;\n",
       "    }\n",
       "</style>\n",
       "<table border=\"1\" class=\"dataframe\">\n",
       "  <thead>\n",
       "    <tr style=\"text-align: right;\">\n",
       "      <th></th>\n",
       "      <th>Discount</th>\n",
       "      <th>market_segment</th>\n",
       "    </tr>\n",
       "  </thead>\n",
       "  <tbody>\n",
       "    <tr>\n",
       "      <th>0</th>\n",
       "      <td>0.00</td>\n",
       "      <td>Undefined</td>\n",
       "    </tr>\n",
       "    <tr>\n",
       "      <th>1</th>\n",
       "      <td>0.10</td>\n",
       "      <td>Direct</td>\n",
       "    </tr>\n",
       "    <tr>\n",
       "      <th>2</th>\n",
       "      <td>0.10</td>\n",
       "      <td>Groups</td>\n",
       "    </tr>\n",
       "    <tr>\n",
       "      <th>3</th>\n",
       "      <td>0.15</td>\n",
       "      <td>Corporate</td>\n",
       "    </tr>\n",
       "    <tr>\n",
       "      <th>4</th>\n",
       "      <td>0.20</td>\n",
       "      <td>Aviation</td>\n",
       "    </tr>\n",
       "    <tr>\n",
       "      <th>5</th>\n",
       "      <td>0.30</td>\n",
       "      <td>Offline TA/TO</td>\n",
       "    </tr>\n",
       "    <tr>\n",
       "      <th>6</th>\n",
       "      <td>0.30</td>\n",
       "      <td>Online TA</td>\n",
       "    </tr>\n",
       "    <tr>\n",
       "      <th>7</th>\n",
       "      <td>1.00</td>\n",
       "      <td>Complementary</td>\n",
       "    </tr>\n",
       "  </tbody>\n",
       "</table>\n",
       "</div>"
      ],
      "text/plain": [
       "   Discount market_segment\n",
       "0      0.00      Undefined\n",
       "1      0.10         Direct\n",
       "2      0.10         Groups\n",
       "3      0.15      Corporate\n",
       "4      0.20       Aviation\n",
       "5      0.30  Offline TA/TO\n",
       "6      0.30      Online TA\n",
       "7      1.00  Complementary"
      ]
     },
     "execution_count": 9,
     "metadata": {},
     "output_type": "execute_result"
    }
   ],
   "source": [
    "# Dimension table 2\n",
    "# Note discounted price would be price * (1 - discount)\n",
    "\n",
    "df_market_segment = df1['market_segment']\n",
    "df_market_segment"
   ]
  },
  {
   "cell_type": "markdown",
   "metadata": {},
   "source": [
    "# Clean and Structure Data"
   ]
  },
  {
   "cell_type": "markdown",
   "metadata": {},
   "source": [
    "## Dupes, Nulls, Anomalies"
   ]
  },
  {
   "cell_type": "code",
   "execution_count": 10,
   "metadata": {},
   "outputs": [
    {
     "data": {
      "text/plain": [
       "73185"
      ]
     },
     "execution_count": 10,
     "metadata": {},
     "output_type": "execute_result"
    }
   ],
   "source": [
    "# Any dupes?\n",
    "# 73185\n",
    "len(df_main[df_main.duplicated()])"
   ]
  },
  {
   "cell_type": "code",
   "execution_count": 11,
   "metadata": {},
   "outputs": [
    {
     "data": {
      "text/plain": [
       "0"
      ]
     },
     "execution_count": 11,
     "metadata": {},
     "output_type": "execute_result"
    }
   ],
   "source": [
    "# Can't find justification for why these dupes need to be kept, so drop them\n",
    "df_main.drop_duplicates(inplace=True)\n",
    "len(df_main[df_main.duplicated()])"
   ]
  },
  {
   "cell_type": "code",
   "execution_count": 12,
   "metadata": {},
   "outputs": [
    {
     "data": {
      "text/plain": [
       "hotel                                  0\n",
       "is_canceled                            0\n",
       "lead_time                              0\n",
       "arrival_date_year                      0\n",
       "arrival_date_month                     0\n",
       "arrival_date_week_number               0\n",
       "arrival_date_day_of_month              0\n",
       "stays_in_weekend_nights                0\n",
       "stays_in_week_nights                   0\n",
       "adults                                 0\n",
       "children                              12\n",
       "babies                                 0\n",
       "meal                                   0\n",
       "country                             1013\n",
       "market_segment                         0\n",
       "distribution_channel                   0\n",
       "is_repeated_guest                      0\n",
       "previous_cancellations                 0\n",
       "previous_bookings_not_canceled         0\n",
       "reserved_room_type                     0\n",
       "assigned_room_type                     0\n",
       "booking_changes                        0\n",
       "deposit_type                           0\n",
       "agent                              26732\n",
       "company                           176732\n",
       "days_in_waiting_list                   0\n",
       "customer_type                          0\n",
       "adr                                    0\n",
       "required_car_parking_spaces            0\n",
       "total_of_special_requests              0\n",
       "reservation_status                     0\n",
       "reservation_status_date                0\n",
       "dtype: int64"
      ]
     },
     "execution_count": 12,
     "metadata": {},
     "output_type": "execute_result"
    }
   ],
   "source": [
    "df_main.isnull().sum()"
   ]
  },
  {
   "cell_type": "markdown",
   "metadata": {},
   "source": [
    "Note: null categorical data like 'agent' and 'company' explained in data dictionary as meaning N/A, not missing in value"
   ]
  },
  {
   "cell_type": "code",
   "execution_count": 13,
   "metadata": {},
   "outputs": [],
   "source": [
    "# Assumption: null children = 0. Need non-null to convert to int (from float), in next cell\n",
    "df_main[\"children\"] = df_main[\"children\"].fillna(value = 0)"
   ]
  },
  {
   "cell_type": "code",
   "execution_count": 14,
   "metadata": {},
   "outputs": [
    {
     "data": {
      "text/plain": [
       "hotel                                     object\n",
       "is_canceled                                int64\n",
       "lead_time                                  int64\n",
       "arrival_date_year                          int64\n",
       "arrival_date_month                        object\n",
       "arrival_date_week_number                   int64\n",
       "arrival_date_day_of_month                  int64\n",
       "stays_in_weekend_nights                    int64\n",
       "stays_in_week_nights                       int64\n",
       "adults                                     int64\n",
       "children                                   int64\n",
       "babies                                     int64\n",
       "meal                                      object\n",
       "country                                   object\n",
       "market_segment                            object\n",
       "distribution_channel                      object\n",
       "is_repeated_guest                          int64\n",
       "previous_cancellations                     int64\n",
       "previous_bookings_not_canceled             int64\n",
       "reserved_room_type                        object\n",
       "assigned_room_type                        object\n",
       "booking_changes                            int64\n",
       "deposit_type                              object\n",
       "agent                                    float64\n",
       "company                                  float64\n",
       "days_in_waiting_list                       int64\n",
       "customer_type                             object\n",
       "adr                                      float64\n",
       "required_car_parking_spaces                int64\n",
       "total_of_special_requests                  int64\n",
       "reservation_status                        object\n",
       "reservation_status_date           datetime64[ns]\n",
       "dtype: object"
      ]
     },
     "execution_count": 14,
     "metadata": {},
     "output_type": "execute_result"
    }
   ],
   "source": [
    "# Convert datatypes:\n",
    "    # children to integer from float\n",
    "    # reservation_status_date to datetime from object\n",
    "df_main[\"children\"] = df_main[\"children\"].astype(np.int64)\n",
    "df_main[\"reservation_status_date\"] = pd.to_datetime(df_main[\"reservation_status_date\"])#.dt.date\n",
    "df_main.dtypes"
   ]
  },
  {
   "cell_type": "markdown",
   "metadata": {},
   "source": [
    "## Feature Engineering, Further Cleaning"
   ]
  },
  {
   "cell_type": "code",
   "execution_count": 15,
   "metadata": {},
   "outputs": [],
   "source": [
    "# Convert month from English name ('July') to number (7)\n",
    "df_main[\"arrival_date_month\"] = pd.to_datetime(df_main[\"arrival_date_month\"], format = \"%B\").dt.month\n",
    "\n",
    "# Combine separate arrival date columns into singular date column\n",
    "df_main[\"arrival_date\"] = pd.to_datetime({\n",
    "    'year': df_main['arrival_date_year'],\n",
    "    'month': df_main['arrival_date_month'],\n",
    "    'day': df_main['arrival_date_day_of_month']\n",
    "})"
   ]
  },
  {
   "cell_type": "code",
   "execution_count": 16,
   "metadata": {},
   "outputs": [
    {
     "data": {
      "text/html": [
       "<div>\n",
       "<style scoped>\n",
       "    .dataframe tbody tr th:only-of-type {\n",
       "        vertical-align: middle;\n",
       "    }\n",
       "\n",
       "    .dataframe tbody tr th {\n",
       "        vertical-align: top;\n",
       "    }\n",
       "\n",
       "    .dataframe thead th {\n",
       "        text-align: right;\n",
       "    }\n",
       "</style>\n",
       "<table border=\"1\" class=\"dataframe\">\n",
       "  <thead>\n",
       "    <tr style=\"text-align: right;\">\n",
       "      <th></th>\n",
       "      <th>arrival_date</th>\n",
       "      <th>arrival_date_year</th>\n",
       "      <th>arrival_date_month</th>\n",
       "      <th>arrival_date_day_of_month</th>\n",
       "    </tr>\n",
       "  </thead>\n",
       "  <tbody>\n",
       "    <tr>\n",
       "      <th>0</th>\n",
       "      <td>2018-07-01</td>\n",
       "      <td>2018</td>\n",
       "      <td>7</td>\n",
       "      <td>1</td>\n",
       "    </tr>\n",
       "    <tr>\n",
       "      <th>1</th>\n",
       "      <td>2018-07-01</td>\n",
       "      <td>2018</td>\n",
       "      <td>7</td>\n",
       "      <td>1</td>\n",
       "    </tr>\n",
       "    <tr>\n",
       "      <th>2</th>\n",
       "      <td>2018-07-01</td>\n",
       "      <td>2018</td>\n",
       "      <td>7</td>\n",
       "      <td>1</td>\n",
       "    </tr>\n",
       "    <tr>\n",
       "      <th>3</th>\n",
       "      <td>2018-07-01</td>\n",
       "      <td>2018</td>\n",
       "      <td>7</td>\n",
       "      <td>1</td>\n",
       "    </tr>\n",
       "    <tr>\n",
       "      <th>4</th>\n",
       "      <td>2018-07-01</td>\n",
       "      <td>2018</td>\n",
       "      <td>7</td>\n",
       "      <td>1</td>\n",
       "    </tr>\n",
       "    <tr>\n",
       "      <th>5</th>\n",
       "      <td>2018-07-02</td>\n",
       "      <td>2018</td>\n",
       "      <td>7</td>\n",
       "      <td>2</td>\n",
       "    </tr>\n",
       "    <tr>\n",
       "      <th>6</th>\n",
       "      <td>2018-07-02</td>\n",
       "      <td>2018</td>\n",
       "      <td>7</td>\n",
       "      <td>2</td>\n",
       "    </tr>\n",
       "    <tr>\n",
       "      <th>7</th>\n",
       "      <td>2018-07-02</td>\n",
       "      <td>2018</td>\n",
       "      <td>7</td>\n",
       "      <td>2</td>\n",
       "    </tr>\n",
       "    <tr>\n",
       "      <th>8</th>\n",
       "      <td>2018-07-02</td>\n",
       "      <td>2018</td>\n",
       "      <td>7</td>\n",
       "      <td>2</td>\n",
       "    </tr>\n",
       "    <tr>\n",
       "      <th>9</th>\n",
       "      <td>2018-07-02</td>\n",
       "      <td>2018</td>\n",
       "      <td>7</td>\n",
       "      <td>2</td>\n",
       "    </tr>\n",
       "    <tr>\n",
       "      <th>10</th>\n",
       "      <td>2018-07-02</td>\n",
       "      <td>2018</td>\n",
       "      <td>7</td>\n",
       "      <td>2</td>\n",
       "    </tr>\n",
       "    <tr>\n",
       "      <th>11</th>\n",
       "      <td>2018-07-03</td>\n",
       "      <td>2018</td>\n",
       "      <td>7</td>\n",
       "      <td>3</td>\n",
       "    </tr>\n",
       "    <tr>\n",
       "      <th>12</th>\n",
       "      <td>2018-07-03</td>\n",
       "      <td>2018</td>\n",
       "      <td>7</td>\n",
       "      <td>3</td>\n",
       "    </tr>\n",
       "    <tr>\n",
       "      <th>13</th>\n",
       "      <td>2018-07-03</td>\n",
       "      <td>2018</td>\n",
       "      <td>7</td>\n",
       "      <td>3</td>\n",
       "    </tr>\n",
       "    <tr>\n",
       "      <th>14</th>\n",
       "      <td>2018-07-03</td>\n",
       "      <td>2018</td>\n",
       "      <td>7</td>\n",
       "      <td>3</td>\n",
       "    </tr>\n",
       "  </tbody>\n",
       "</table>\n",
       "</div>"
      ],
      "text/plain": [
       "   arrival_date  arrival_date_year  arrival_date_month  \\\n",
       "0    2018-07-01               2018                   7   \n",
       "1    2018-07-01               2018                   7   \n",
       "2    2018-07-01               2018                   7   \n",
       "3    2018-07-01               2018                   7   \n",
       "4    2018-07-01               2018                   7   \n",
       "5    2018-07-02               2018                   7   \n",
       "6    2018-07-02               2018                   7   \n",
       "7    2018-07-02               2018                   7   \n",
       "8    2018-07-02               2018                   7   \n",
       "9    2018-07-02               2018                   7   \n",
       "10   2018-07-02               2018                   7   \n",
       "11   2018-07-03               2018                   7   \n",
       "12   2018-07-03               2018                   7   \n",
       "13   2018-07-03               2018                   7   \n",
       "14   2018-07-03               2018                   7   \n",
       "\n",
       "    arrival_date_day_of_month  \n",
       "0                           1  \n",
       "1                           1  \n",
       "2                           1  \n",
       "3                           1  \n",
       "4                           1  \n",
       "5                           2  \n",
       "6                           2  \n",
       "7                           2  \n",
       "8                           2  \n",
       "9                           2  \n",
       "10                          2  \n",
       "11                          3  \n",
       "12                          3  \n",
       "13                          3  \n",
       "14                          3  "
      ]
     },
     "execution_count": 16,
     "metadata": {},
     "output_type": "execute_result"
    }
   ],
   "source": [
    "df_main[[\"arrival_date\", \"arrival_date_year\", \"arrival_date_month\", \"arrival_date_day_of_month\"]].head(15)"
   ]
  },
  {
   "cell_type": "code",
   "execution_count": 17,
   "metadata": {},
   "outputs": [],
   "source": [
    "# Don't drop - easier filtering if retained\n",
    "#df_main = df_main.drop(labels = [\"arrival_date_year\", \"arrival_date_month\", \"arrival_date_day_of_month\"], axis = 1)"
   ]
  },
  {
   "cell_type": "code",
   "execution_count": 18,
   "metadata": {},
   "outputs": [],
   "source": [
    "df_main[\"pax\"] = df_main[\"adults\"] + df_main[\"children\"] + df_main[\"babies\"]"
   ]
  },
  {
   "cell_type": "code",
   "execution_count": 19,
   "metadata": {},
   "outputs": [
    {
     "data": {
      "text/plain": [
       "361"
      ]
     },
     "execution_count": 19,
     "metadata": {},
     "output_type": "execute_result"
    }
   ],
   "source": [
    "len(df_main[df_main[\"pax\"] == 0])"
   ]
  },
  {
   "cell_type": "code",
   "execution_count": 20,
   "metadata": {},
   "outputs": [],
   "source": [
    "# Absent deeper knowledge on booking system, assume 0 pax bookings are in error / not usable\n",
    "df_main = df_main[df_main[\"pax\"] != 0].copy()"
   ]
  },
  {
   "cell_type": "code",
   "execution_count": 21,
   "metadata": {},
   "outputs": [
    {
     "data": {
      "text/html": [
       "<div>\n",
       "<style scoped>\n",
       "    .dataframe tbody tr th:only-of-type {\n",
       "        vertical-align: middle;\n",
       "    }\n",
       "\n",
       "    .dataframe tbody tr th {\n",
       "        vertical-align: top;\n",
       "    }\n",
       "\n",
       "    .dataframe thead th {\n",
       "        text-align: right;\n",
       "    }\n",
       "</style>\n",
       "<table border=\"1\" class=\"dataframe\">\n",
       "  <thead>\n",
       "    <tr style=\"text-align: right;\">\n",
       "      <th></th>\n",
       "      <th>nights</th>\n",
       "      <th>stays_in_week_nights</th>\n",
       "      <th>stays_in_weekend_nights</th>\n",
       "    </tr>\n",
       "  </thead>\n",
       "  <tbody>\n",
       "    <tr>\n",
       "      <th>0</th>\n",
       "      <td>3</td>\n",
       "      <td>3</td>\n",
       "      <td>0</td>\n",
       "    </tr>\n",
       "    <tr>\n",
       "      <th>1</th>\n",
       "      <td>3</td>\n",
       "      <td>3</td>\n",
       "      <td>0</td>\n",
       "    </tr>\n",
       "    <tr>\n",
       "      <th>2</th>\n",
       "      <td>4</td>\n",
       "      <td>4</td>\n",
       "      <td>0</td>\n",
       "    </tr>\n",
       "    <tr>\n",
       "      <th>3</th>\n",
       "      <td>7</td>\n",
       "      <td>5</td>\n",
       "      <td>2</td>\n",
       "    </tr>\n",
       "    <tr>\n",
       "      <th>4</th>\n",
       "      <td>10</td>\n",
       "      <td>8</td>\n",
       "      <td>2</td>\n",
       "    </tr>\n",
       "    <tr>\n",
       "      <th>5</th>\n",
       "      <td>4</td>\n",
       "      <td>3</td>\n",
       "      <td>1</td>\n",
       "    </tr>\n",
       "    <tr>\n",
       "      <th>6</th>\n",
       "      <td>4</td>\n",
       "      <td>3</td>\n",
       "      <td>1</td>\n",
       "    </tr>\n",
       "    <tr>\n",
       "      <th>7</th>\n",
       "      <td>4</td>\n",
       "      <td>3</td>\n",
       "      <td>1</td>\n",
       "    </tr>\n",
       "    <tr>\n",
       "      <th>8</th>\n",
       "      <td>5</td>\n",
       "      <td>3</td>\n",
       "      <td>2</td>\n",
       "    </tr>\n",
       "    <tr>\n",
       "      <th>9</th>\n",
       "      <td>7</td>\n",
       "      <td>5</td>\n",
       "      <td>2</td>\n",
       "    </tr>\n",
       "  </tbody>\n",
       "</table>\n",
       "</div>"
      ],
      "text/plain": [
       "   nights  stays_in_week_nights  stays_in_weekend_nights\n",
       "0       3                     3                        0\n",
       "1       3                     3                        0\n",
       "2       4                     4                        0\n",
       "3       7                     5                        2\n",
       "4      10                     8                        2\n",
       "5       4                     3                        1\n",
       "6       4                     3                        1\n",
       "7       4                     3                        1\n",
       "8       5                     3                        2\n",
       "9       7                     5                        2"
      ]
     },
     "execution_count": 21,
     "metadata": {},
     "output_type": "execute_result"
    }
   ],
   "source": [
    "# adr := sum of all lodging transactions divided by total number of staying nights\n",
    "# So sum of all lodging transactions per booking (row) is adr * nights\n",
    "\n",
    "df_main[\"nights\"] = df_main[\"stays_in_week_nights\"] + df_main[\"stays_in_weekend_nights\"]\n",
    "df_main[[\"nights\", \"stays_in_week_nights\", \"stays_in_weekend_nights\"]].head(10)"
   ]
  },
  {
   "cell_type": "code",
   "execution_count": 22,
   "metadata": {},
   "outputs": [
    {
     "data": {
      "text/plain": [
       "False    184422\n",
       "True       3369\n",
       "dtype: int64"
      ]
     },
     "execution_count": 22,
     "metadata": {},
     "output_type": "execute_result"
    }
   ],
   "source": [
    "# 3,634 entries are not cancelled yet have adr (avg daily rate) of 0.\n",
    "# adr is \"calculated by dividing the sum of all lodging transactions by the total number of staying nights\"\n",
    "df_main.groupby([(df_main[\"adr\"] == 0) & (df_main[\"is_canceled\"] == 0)]).size()"
   ]
  },
  {
   "cell_type": "code",
   "execution_count": 23,
   "metadata": {},
   "outputs": [
    {
     "data": {
      "text/html": [
       "<div>\n",
       "<style scoped>\n",
       "    .dataframe tbody tr th:only-of-type {\n",
       "        vertical-align: middle;\n",
       "    }\n",
       "\n",
       "    .dataframe tbody tr th {\n",
       "        vertical-align: top;\n",
       "    }\n",
       "\n",
       "    .dataframe thead th {\n",
       "        text-align: right;\n",
       "    }\n",
       "</style>\n",
       "<table border=\"1\" class=\"dataframe\">\n",
       "  <thead>\n",
       "    <tr style=\"text-align: right;\">\n",
       "      <th></th>\n",
       "      <th>nights</th>\n",
       "      <th>stays_in_weekend_nights</th>\n",
       "      <th>stays_in_week_nights</th>\n",
       "    </tr>\n",
       "  </thead>\n",
       "  <tbody>\n",
       "    <tr>\n",
       "      <th>34715</th>\n",
       "      <td>48</td>\n",
       "      <td>14</td>\n",
       "      <td>34</td>\n",
       "    </tr>\n",
       "    <tr>\n",
       "      <th>54704</th>\n",
       "      <td>48</td>\n",
       "      <td>14</td>\n",
       "      <td>34</td>\n",
       "    </tr>\n",
       "    <tr>\n",
       "      <th>1655</th>\n",
       "      <td>46</td>\n",
       "      <td>13</td>\n",
       "      <td>33</td>\n",
       "    </tr>\n",
       "    <tr>\n",
       "      <th>8989</th>\n",
       "      <td>46</td>\n",
       "      <td>13</td>\n",
       "      <td>33</td>\n",
       "    </tr>\n",
       "    <tr>\n",
       "      <th>65696</th>\n",
       "      <td>46</td>\n",
       "      <td>13</td>\n",
       "      <td>33</td>\n",
       "    </tr>\n",
       "    <tr>\n",
       "      <th>...</th>\n",
       "      <td>...</td>\n",
       "      <td>...</td>\n",
       "      <td>...</td>\n",
       "    </tr>\n",
       "    <tr>\n",
       "      <th>115483</th>\n",
       "      <td>0</td>\n",
       "      <td>0</td>\n",
       "      <td>0</td>\n",
       "    </tr>\n",
       "    <tr>\n",
       "      <th>117701</th>\n",
       "      <td>0</td>\n",
       "      <td>0</td>\n",
       "      <td>0</td>\n",
       "    </tr>\n",
       "    <tr>\n",
       "      <th>118029</th>\n",
       "      <td>0</td>\n",
       "      <td>0</td>\n",
       "      <td>0</td>\n",
       "    </tr>\n",
       "    <tr>\n",
       "      <th>18836</th>\n",
       "      <td>0</td>\n",
       "      <td>0</td>\n",
       "      <td>0</td>\n",
       "    </tr>\n",
       "    <tr>\n",
       "      <th>19044</th>\n",
       "      <td>0</td>\n",
       "      <td>0</td>\n",
       "      <td>0</td>\n",
       "    </tr>\n",
       "  </tbody>\n",
       "</table>\n",
       "<p>3369 rows × 3 columns</p>\n",
       "</div>"
      ],
      "text/plain": [
       "        nights  stays_in_weekend_nights  stays_in_week_nights\n",
       "34715       48                       14                    34\n",
       "54704       48                       14                    34\n",
       "1655        46                       13                    33\n",
       "8989        46                       13                    33\n",
       "65696       46                       13                    33\n",
       "...        ...                      ...                   ...\n",
       "115483       0                        0                     0\n",
       "117701       0                        0                     0\n",
       "118029       0                        0                     0\n",
       "18836        0                        0                     0\n",
       "19044        0                        0                     0\n",
       "\n",
       "[3369 rows x 3 columns]"
      ]
     },
     "execution_count": 23,
     "metadata": {},
     "output_type": "execute_result"
    }
   ],
   "source": [
    "# There are examples below of adr = 0, canceled = 0, and nights != 0\n",
    "# Even if strictly nights = 0 for these conditions, that wouldn't easily explain anything, but might have been a hint into reasoning\n",
    "\n",
    "# df_main[[\"nights\", \"stays_in_weekend_nights\", \"stays_in_week_nights\"]][(df_main[\"adr\"] == 0) & (df_main[\"is_canceled\"] == 0)].sort_values(by = df_main[\"nights\"], ascending=False)\n",
    "\n",
    "df_main[(df_main[\"adr\"] == 0) & (df_main[\"is_canceled\"] == 0)][[\"nights\", \"stays_in_weekend_nights\", \"stays_in_week_nights\"]].sort_values(by=\"nights\", ascending=False)"
   ]
  },
  {
   "cell_type": "code",
   "execution_count": 24,
   "metadata": {},
   "outputs": [
    {
     "data": {
      "text/plain": [
       "market_segment\n",
       "Complementary    1228\n",
       "Online TA         661\n",
       "Offline TA/TO     487\n",
       "Groups            451\n",
       "Direct            404\n",
       "Corporate         132\n",
       "Aviation            6\n",
       "dtype: int64"
      ]
     },
     "execution_count": 24,
     "metadata": {},
     "output_type": "execute_result"
    }
   ],
   "source": [
    "# Examples below show that cases of adr = 0 & is_canceled = 0 do not congregate around one particular dimension value,\n",
    "# which would hint that the result is systematic --> stronger evidence that this is erroneous / not by design\n",
    "df_main[(df_main[\"adr\"] == 0) & (df_main[\"is_canceled\"] == 0)].groupby(\"market_segment\").size().sort_values(ascending = False)\n",
    "# df_main[(df_main[\"adr\"] == 0) & (df_main[\"is_canceled\"] == 0)].groupby(\"distribution_channel\").size().sort_values(ascending = False)\n",
    "# df_main[(df_main[\"adr\"] == 0) & (df_main[\"is_canceled\"] == 0)].groupby(\"customer_type\").size().sort_values(ascending = False)"
   ]
  },
  {
   "cell_type": "code",
   "execution_count": 25,
   "metadata": {},
   "outputs": [
    {
     "data": {
      "text/plain": [
       "market_segment\n",
       "False   5400.00\n",
       "True     170.00\n",
       "Name: adr, dtype: float64"
      ]
     },
     "execution_count": 25,
     "metadata": {},
     "output_type": "execute_result"
    }
   ],
   "source": [
    "# Note too that \"Complementary\" market segment discount of 100% is applied in post, as seen by max 'adr' for this segment being > 0\n",
    "df_main.groupby(df_main[\"market_segment\"] == \"Complementary\")[\"adr\"].max()"
   ]
  },
  {
   "cell_type": "code",
   "execution_count": 26,
   "metadata": {},
   "outputs": [],
   "source": [
    "\n",
    "# Absent more detailed knowledge of subject matter, assume the examples found are unusable\n",
    "# Even if these are explained by e.g. vouchers and perks, there is no alternate column to demonstrate this anyway\n",
    "df_main = df_main[~((df_main[\"adr\"] == 0) & (df_main[\"is_canceled\"] == 0))].copy()\n",
    "# After slicing, e.g. as above, Pandas does not necessarily create a totally new df_main, rather just a shallow copy, or even just a view\n",
    "# So later when e.g. adding new columns, Pandas not sure if applying to original or view, and changes may or may not exist\n",
    "# Therefore make a deep copy"
   ]
  },
  {
   "cell_type": "code",
   "execution_count": 27,
   "metadata": {},
   "outputs": [
    {
     "data": {
      "text/html": [
       "<div>\n",
       "<style scoped>\n",
       "    .dataframe tbody tr th:only-of-type {\n",
       "        vertical-align: middle;\n",
       "    }\n",
       "\n",
       "    .dataframe tbody tr th {\n",
       "        vertical-align: top;\n",
       "    }\n",
       "\n",
       "    .dataframe thead th {\n",
       "        text-align: right;\n",
       "    }\n",
       "</style>\n",
       "<table border=\"1\" class=\"dataframe\">\n",
       "  <thead>\n",
       "    <tr style=\"text-align: right;\">\n",
       "      <th></th>\n",
       "      <th>min</th>\n",
       "      <th>max</th>\n",
       "    </tr>\n",
       "    <tr>\n",
       "      <th>arrival_date_year</th>\n",
       "      <th></th>\n",
       "      <th></th>\n",
       "    </tr>\n",
       "  </thead>\n",
       "  <tbody>\n",
       "    <tr>\n",
       "      <th>2015</th>\n",
       "      <td>2014-10-17</td>\n",
       "      <td>2016-01-14</td>\n",
       "    </tr>\n",
       "    <tr>\n",
       "      <th>2016</th>\n",
       "      <td>2015-06-26</td>\n",
       "      <td>2017-01-14</td>\n",
       "    </tr>\n",
       "    <tr>\n",
       "      <th>2017</th>\n",
       "      <td>2015-10-21</td>\n",
       "      <td>2017-09-14</td>\n",
       "    </tr>\n",
       "    <tr>\n",
       "      <th>2018</th>\n",
       "      <td>2014-10-17</td>\n",
       "      <td>2019-01-14</td>\n",
       "    </tr>\n",
       "    <tr>\n",
       "      <th>2019</th>\n",
       "      <td>2014-10-17</td>\n",
       "      <td>2020-01-14</td>\n",
       "    </tr>\n",
       "    <tr>\n",
       "      <th>2020</th>\n",
       "      <td>2018-10-21</td>\n",
       "      <td>2020-09-14</td>\n",
       "    </tr>\n",
       "  </tbody>\n",
       "</table>\n",
       "</div>"
      ],
      "text/plain": [
       "                         min        max\n",
       "arrival_date_year                      \n",
       "2015              2014-10-17 2016-01-14\n",
       "2016              2015-06-26 2017-01-14\n",
       "2017              2015-10-21 2017-09-14\n",
       "2018              2014-10-17 2019-01-14\n",
       "2019              2014-10-17 2020-01-14\n",
       "2020              2018-10-21 2020-09-14"
      ]
     },
     "execution_count": 27,
     "metadata": {},
     "output_type": "execute_result"
    }
   ],
   "source": [
    "# reservation_status := ['canceled', 'check out', 'no show']\n",
    "# reservation_status_date := \"Date at which the last status was set [...] understand when was the booking canceled or when did the customer checked-out of the hotel\"\n",
    "df_main.groupby(\"arrival_date_year\")[\"reservation_status_date\"].agg(['min', 'max'])\n",
    "# (Later standardise the format of column)"
   ]
  },
  {
   "cell_type": "code",
   "execution_count": 28,
   "metadata": {},
   "outputs": [
    {
     "data": {
      "text/html": [
       "<div>\n",
       "<style scoped>\n",
       "    .dataframe tbody tr th:only-of-type {\n",
       "        vertical-align: middle;\n",
       "    }\n",
       "\n",
       "    .dataframe tbody tr th {\n",
       "        vertical-align: top;\n",
       "    }\n",
       "\n",
       "    .dataframe thead th {\n",
       "        text-align: right;\n",
       "    }\n",
       "</style>\n",
       "<table border=\"1\" class=\"dataframe\">\n",
       "  <thead>\n",
       "    <tr style=\"text-align: right;\">\n",
       "      <th></th>\n",
       "      <th>is_canceled</th>\n",
       "      <th>reservation_status</th>\n",
       "      <th>reservation_status_date</th>\n",
       "      <th>arrival_date</th>\n",
       "    </tr>\n",
       "  </thead>\n",
       "  <tbody>\n",
       "    <tr>\n",
       "      <th>56104</th>\n",
       "      <td>1</td>\n",
       "      <td>No-Show</td>\n",
       "      <td>2019-03-28</td>\n",
       "      <td>2019-07-17</td>\n",
       "    </tr>\n",
       "    <tr>\n",
       "      <th>66832</th>\n",
       "      <td>0</td>\n",
       "      <td>Check-Out</td>\n",
       "      <td>2019-01-05</td>\n",
       "      <td>2019-12-08</td>\n",
       "    </tr>\n",
       "    <tr>\n",
       "      <th>66852</th>\n",
       "      <td>0</td>\n",
       "      <td>Check-Out</td>\n",
       "      <td>2019-01-05</td>\n",
       "      <td>2019-12-17</td>\n",
       "    </tr>\n",
       "    <tr>\n",
       "      <th>66889</th>\n",
       "      <td>0</td>\n",
       "      <td>Check-Out</td>\n",
       "      <td>2019-01-02</td>\n",
       "      <td>2019-12-23</td>\n",
       "    </tr>\n",
       "    <tr>\n",
       "      <th>66905</th>\n",
       "      <td>0</td>\n",
       "      <td>Check-Out</td>\n",
       "      <td>2019-01-01</td>\n",
       "      <td>2019-12-24</td>\n",
       "    </tr>\n",
       "    <tr>\n",
       "      <th>...</th>\n",
       "      <td>...</td>\n",
       "      <td>...</td>\n",
       "      <td>...</td>\n",
       "      <td>...</td>\n",
       "    </tr>\n",
       "    <tr>\n",
       "      <th>79259</th>\n",
       "      <td>1</td>\n",
       "      <td>Check-Out</td>\n",
       "      <td>2019-01-06</td>\n",
       "      <td>2019-03-01</td>\n",
       "    </tr>\n",
       "    <tr>\n",
       "      <th>79260</th>\n",
       "      <td>1</td>\n",
       "      <td>Check-Out</td>\n",
       "      <td>2018-11-20</td>\n",
       "      <td>2019-03-02</td>\n",
       "    </tr>\n",
       "    <tr>\n",
       "      <th>79261</th>\n",
       "      <td>1</td>\n",
       "      <td>Check-Out</td>\n",
       "      <td>2018-11-20</td>\n",
       "      <td>2019-03-02</td>\n",
       "    </tr>\n",
       "    <tr>\n",
       "      <th>79263</th>\n",
       "      <td>1</td>\n",
       "      <td>Check-Out</td>\n",
       "      <td>2019-01-27</td>\n",
       "      <td>2019-03-02</td>\n",
       "    </tr>\n",
       "    <tr>\n",
       "      <th>7035</th>\n",
       "      <td>1</td>\n",
       "      <td>No-Show</td>\n",
       "      <td>2016-03-28</td>\n",
       "      <td>2016-07-17</td>\n",
       "    </tr>\n",
       "  </tbody>\n",
       "</table>\n",
       "<p>328 rows × 4 columns</p>\n",
       "</div>"
      ],
      "text/plain": [
       "       is_canceled reservation_status reservation_status_date arrival_date\n",
       "56104            1            No-Show              2019-03-28   2019-07-17\n",
       "66832            0          Check-Out              2019-01-05   2019-12-08\n",
       "66852            0          Check-Out              2019-01-05   2019-12-17\n",
       "66889            0          Check-Out              2019-01-02   2019-12-23\n",
       "66905            0          Check-Out              2019-01-01   2019-12-24\n",
       "...            ...                ...                     ...          ...\n",
       "79259            1          Check-Out              2019-01-06   2019-03-01\n",
       "79260            1          Check-Out              2018-11-20   2019-03-02\n",
       "79261            1          Check-Out              2018-11-20   2019-03-02\n",
       "79263            1          Check-Out              2019-01-27   2019-03-02\n",
       "7035             1            No-Show              2016-03-28   2016-07-17\n",
       "\n",
       "[328 rows x 4 columns]"
      ]
     },
     "execution_count": 28,
     "metadata": {},
     "output_type": "execute_result"
    }
   ],
   "source": [
    "# Some min dates look suspicious\n",
    "# Technically, would be possible in the case of cancellations for the reserve_status_date to preceded arrival_date\n",
    "\n",
    "# First see if any cases where reserve_status_date < arrival_date but corresponding status was not cancellation\n",
    "# Where 'is_canceled' = 1 yet reservation_status is not 'Canceled', we prioritise the reservation_status, to align with documentation\n",
    "\n",
    "# df_main[(df_main[\"reservation_status_date\"] < df_main[\"arrival_date\"]) & (df_main[\"reservation_status\"] != 'Canceled')]\n",
    "df_main[[\"is_canceled\", \"reservation_status\", \"reservation_status_date\", \"arrival_date\"]][(df_main[\"reservation_status_date\"] < df_main[\"arrival_date\"]) & (df_main[\"reservation_status\"] != 'Canceled')]"
   ]
  },
  {
   "cell_type": "code",
   "execution_count": 29,
   "metadata": {},
   "outputs": [],
   "source": [
    "# 328 rows cannot be explained - delete\n",
    "# Exclude the 328 problematic rows\n",
    "df_main = df_main[~((df_main[\"reservation_status_date\"] < df_main[\"arrival_date\"]) & (df_main[\"reservation_status\"] != 'Canceled'))].copy()"
   ]
  },
  {
   "cell_type": "code",
   "execution_count": 30,
   "metadata": {},
   "outputs": [
    {
     "data": {
      "text/html": [
       "<div>\n",
       "<style scoped>\n",
       "    .dataframe tbody tr th:only-of-type {\n",
       "        vertical-align: middle;\n",
       "    }\n",
       "\n",
       "    .dataframe tbody tr th {\n",
       "        vertical-align: top;\n",
       "    }\n",
       "\n",
       "    .dataframe thead th {\n",
       "        text-align: right;\n",
       "    }\n",
       "</style>\n",
       "<table border=\"1\" class=\"dataframe\">\n",
       "  <thead>\n",
       "    <tr style=\"text-align: right;\">\n",
       "      <th></th>\n",
       "      <th>is_canceled</th>\n",
       "      <th>reservation_status</th>\n",
       "      <th>reservation_status_date</th>\n",
       "      <th>arrival_date</th>\n",
       "      <th>lead_time</th>\n",
       "      <th>booking_date</th>\n",
       "    </tr>\n",
       "  </thead>\n",
       "  <tbody>\n",
       "    <tr>\n",
       "      <th>566</th>\n",
       "      <td>1</td>\n",
       "      <td>Canceled</td>\n",
       "      <td>2014-11-18</td>\n",
       "      <td>2018-09-03</td>\n",
       "      <td>297</td>\n",
       "      <td>2017-11-10</td>\n",
       "    </tr>\n",
       "    <tr>\n",
       "      <th>4215</th>\n",
       "      <td>1</td>\n",
       "      <td>Canceled</td>\n",
       "      <td>2014-10-17</td>\n",
       "      <td>2018-07-09</td>\n",
       "      <td>265</td>\n",
       "      <td>2017-10-17</td>\n",
       "    </tr>\n",
       "    <tr>\n",
       "      <th>4216</th>\n",
       "      <td>1</td>\n",
       "      <td>Canceled</td>\n",
       "      <td>2014-10-17</td>\n",
       "      <td>2018-07-02</td>\n",
       "      <td>258</td>\n",
       "      <td>2017-10-17</td>\n",
       "    </tr>\n",
       "    <tr>\n",
       "      <th>4236</th>\n",
       "      <td>1</td>\n",
       "      <td>Canceled</td>\n",
       "      <td>2014-10-17</td>\n",
       "      <td>2018-07-09</td>\n",
       "      <td>265</td>\n",
       "      <td>2017-10-17</td>\n",
       "    </tr>\n",
       "    <tr>\n",
       "      <th>4255</th>\n",
       "      <td>1</td>\n",
       "      <td>Canceled</td>\n",
       "      <td>2014-10-17</td>\n",
       "      <td>2018-07-16</td>\n",
       "      <td>272</td>\n",
       "      <td>2017-10-17</td>\n",
       "    </tr>\n",
       "    <tr>\n",
       "      <th>...</th>\n",
       "      <td>...</td>\n",
       "      <td>...</td>\n",
       "      <td>...</td>\n",
       "      <td>...</td>\n",
       "      <td>...</td>\n",
       "      <td>...</td>\n",
       "    </tr>\n",
       "    <tr>\n",
       "      <th>15287</th>\n",
       "      <td>1</td>\n",
       "      <td>Canceled</td>\n",
       "      <td>2020-01-09</td>\n",
       "      <td>2020-08-25</td>\n",
       "      <td>228</td>\n",
       "      <td>2020-01-10</td>\n",
       "    </tr>\n",
       "    <tr>\n",
       "      <th>15325</th>\n",
       "      <td>1</td>\n",
       "      <td>Canceled</td>\n",
       "      <td>2020-02-12</td>\n",
       "      <td>2020-08-26</td>\n",
       "      <td>195</td>\n",
       "      <td>2020-02-13</td>\n",
       "    </tr>\n",
       "    <tr>\n",
       "      <th>15346</th>\n",
       "      <td>1</td>\n",
       "      <td>Canceled</td>\n",
       "      <td>2020-02-19</td>\n",
       "      <td>2020-08-27</td>\n",
       "      <td>189</td>\n",
       "      <td>2020-02-20</td>\n",
       "    </tr>\n",
       "    <tr>\n",
       "      <th>15413</th>\n",
       "      <td>1</td>\n",
       "      <td>Canceled</td>\n",
       "      <td>2020-02-04</td>\n",
       "      <td>2020-08-30</td>\n",
       "      <td>207</td>\n",
       "      <td>2020-02-05</td>\n",
       "    </tr>\n",
       "    <tr>\n",
       "      <th>15466</th>\n",
       "      <td>1</td>\n",
       "      <td>Canceled</td>\n",
       "      <td>2020-01-31</td>\n",
       "      <td>2020-03-26</td>\n",
       "      <td>54</td>\n",
       "      <td>2020-02-01</td>\n",
       "    </tr>\n",
       "  </tbody>\n",
       "</table>\n",
       "<p>688 rows × 6 columns</p>\n",
       "</div>"
      ],
      "text/plain": [
       "       is_canceled reservation_status reservation_status_date arrival_date  \\\n",
       "566              1           Canceled              2014-11-18   2018-09-03   \n",
       "4215             1           Canceled              2014-10-17   2018-07-09   \n",
       "4216             1           Canceled              2014-10-17   2018-07-02   \n",
       "4236             1           Canceled              2014-10-17   2018-07-09   \n",
       "4255             1           Canceled              2014-10-17   2018-07-16   \n",
       "...            ...                ...                     ...          ...   \n",
       "15287            1           Canceled              2020-01-09   2020-08-25   \n",
       "15325            1           Canceled              2020-02-12   2020-08-26   \n",
       "15346            1           Canceled              2020-02-19   2020-08-27   \n",
       "15413            1           Canceled              2020-02-04   2020-08-30   \n",
       "15466            1           Canceled              2020-01-31   2020-03-26   \n",
       "\n",
       "       lead_time booking_date  \n",
       "566          297   2017-11-10  \n",
       "4215         265   2017-10-17  \n",
       "4216         258   2017-10-17  \n",
       "4236         265   2017-10-17  \n",
       "4255         272   2017-10-17  \n",
       "...          ...          ...  \n",
       "15287        228   2020-01-10  \n",
       "15325        195   2020-02-13  \n",
       "15346        189   2020-02-20  \n",
       "15413        207   2020-02-05  \n",
       "15466         54   2020-02-01  \n",
       "\n",
       "[688 rows x 6 columns]"
      ]
     },
     "execution_count": 30,
     "metadata": {},
     "output_type": "execute_result"
    }
   ],
   "source": [
    "# lead_time := number of days [...]] between the entering date of the booking into the PMS and the arrival date\n",
    "# PMS := Property Management System\n",
    "\n",
    "# Wouldn't make sense for reservation_status_date to precede the booking_date in any scenario (cancellation, no show, check out)\n",
    "# Derive booking_date from datediff(arrival - lead time) then compare:\n",
    "\n",
    "\n",
    "df_main[\"booking_date\"] = df_main[\"arrival_date\"] - pd.to_timedelta(df_main[\"lead_time\"], unit='days')\n",
    "df_main[[\"is_canceled\", \"reservation_status\", \"reservation_status_date\", \"arrival_date\", \"lead_time\", \"booking_date\"]][df_main[\"booking_date\"] > df_main[\"reservation_status_date\"]]"
   ]
  },
  {
   "cell_type": "code",
   "execution_count": 31,
   "metadata": {},
   "outputs": [],
   "source": [
    "# Can't explain above 688 rows where booking_date > reservation_status_date (\"latest\" status), so delete:\n",
    "\n",
    "df_main = df_main[~(df_main[\"booking_date\"] > df_main[\"reservation_status_date\"])].copy()"
   ]
  },
  {
   "cell_type": "code",
   "execution_count": 32,
   "metadata": {},
   "outputs": [
    {
     "data": {
      "text/plain": [
       "reservation_status\n",
       "Canceled     47852\n",
       "Check-Out        2\n",
       "No-Show       2179\n",
       "dtype: int64"
      ]
     },
     "execution_count": 32,
     "metadata": {},
     "output_type": "execute_result"
    }
   ],
   "source": [
    "# reservation_status == 'Canceled' := customer cancelled\n",
    "# is_canceled == 1 := cancelled on booking system ... presumably by hotel operator\n",
    "# So below instances of reservation_status == 'Check-Out' but is_canceled == 1 don't make sense?\n",
    "\n",
    "df_main[(df_main[\"is_canceled\"] == 1)].groupby(\"reservation_status\").size()"
   ]
  },
  {
   "cell_type": "code",
   "execution_count": 33,
   "metadata": {},
   "outputs": [],
   "source": [
    "# Drop 2 instances of is_canceled == 1 and reservation_status == 'Check-Out'\n",
    "df_main = df_main[~((df_main[\"is_canceled\"] == 1) & (df_main[\"reservation_status\"] == 'Check-Out'))].copy()"
   ]
  },
  {
   "cell_type": "code",
   "execution_count": 34,
   "metadata": {},
   "outputs": [
    {
     "data": {
      "text/plain": [
       "reservation_status\n",
       "Check-Out    133373\n",
       "dtype: int64"
      ]
     },
     "execution_count": 34,
     "metadata": {},
     "output_type": "execute_result"
    }
   ],
   "source": [
    "df_main[(df_main[\"is_canceled\"] == 0)].groupby(\"reservation_status\").size()"
   ]
  },
  {
   "cell_type": "markdown",
   "metadata": {},
   "source": [
    "### Seasonal Analysis Set-up"
   ]
  },
  {
   "cell_type": "code",
   "execution_count": 35,
   "metadata": {},
   "outputs": [
    {
     "data": {
      "text/html": [
       "<div>\n",
       "<style scoped>\n",
       "    .dataframe tbody tr th:only-of-type {\n",
       "        vertical-align: middle;\n",
       "    }\n",
       "\n",
       "    .dataframe tbody tr th {\n",
       "        vertical-align: top;\n",
       "    }\n",
       "\n",
       "    .dataframe thead th {\n",
       "        text-align: right;\n",
       "    }\n",
       "</style>\n",
       "<table border=\"1\" class=\"dataframe\">\n",
       "  <thead>\n",
       "    <tr style=\"text-align: right;\">\n",
       "      <th></th>\n",
       "      <th>arrival_date_year</th>\n",
       "      <th>min</th>\n",
       "      <th>max</th>\n",
       "    </tr>\n",
       "  </thead>\n",
       "  <tbody>\n",
       "    <tr>\n",
       "      <th>0</th>\n",
       "      <td>2015</td>\n",
       "      <td>2015-07-01</td>\n",
       "      <td>2015-12-31</td>\n",
       "    </tr>\n",
       "    <tr>\n",
       "      <th>1</th>\n",
       "      <td>2016</td>\n",
       "      <td>2016-01-01</td>\n",
       "      <td>2016-12-31</td>\n",
       "    </tr>\n",
       "    <tr>\n",
       "      <th>2</th>\n",
       "      <td>2017</td>\n",
       "      <td>2017-01-01</td>\n",
       "      <td>2017-08-31</td>\n",
       "    </tr>\n",
       "    <tr>\n",
       "      <th>3</th>\n",
       "      <td>2018</td>\n",
       "      <td>2018-07-01</td>\n",
       "      <td>2018-12-31</td>\n",
       "    </tr>\n",
       "    <tr>\n",
       "      <th>4</th>\n",
       "      <td>2019</td>\n",
       "      <td>2019-01-01</td>\n",
       "      <td>2019-12-31</td>\n",
       "    </tr>\n",
       "    <tr>\n",
       "      <th>5</th>\n",
       "      <td>2020</td>\n",
       "      <td>2020-01-01</td>\n",
       "      <td>2020-08-31</td>\n",
       "    </tr>\n",
       "  </tbody>\n",
       "</table>\n",
       "</div>"
      ],
      "text/plain": [
       "   arrival_date_year        min        max\n",
       "0               2015 2015-07-01 2015-12-31\n",
       "1               2016 2016-01-01 2016-12-31\n",
       "2               2017 2017-01-01 2017-08-31\n",
       "3               2018 2018-07-01 2018-12-31\n",
       "4               2019 2019-01-01 2019-12-31\n",
       "5               2020 2020-01-01 2020-08-31"
      ]
     },
     "execution_count": 35,
     "metadata": {},
     "output_type": "execute_result"
    }
   ],
   "source": [
    "df_main.groupby(\"arrival_date_year\")[\"arrival_date\"].agg(['min', 'max']).reset_index()"
   ]
  },
  {
   "cell_type": "markdown",
   "metadata": {},
   "source": [
    "https://www.practiceportuguese.com/learning-notes/seasons-of-the-year/\n",
    "- Spring: 20 Mar < 21 June\n",
    "- Summer: 21 June < 23 Sept\n",
    "- Autumn: 23 Sept < 21 Dec\n",
    "- Winter: 21 Dec < 20 Mar"
   ]
  },
  {
   "cell_type": "code",
   "execution_count": 36,
   "metadata": {},
   "outputs": [],
   "source": [
    "# Though we can extract mm-dd from yyyy-mm-dd as below,\n",
    "# this outputs as object dtype, which can't easily be compared to date parameters.\n",
    "# df_main[\"arrival_date\"].dt.strftime('%m-%d')\n",
    "# So instead, use day of year:\n",
    "\n",
    "df_main['day_of_year'] = df_main[\"arrival_date\"].dt.dayofyear\n",
    "\n",
    "def get_season(day_of_year):\n",
    "    if 80 <= day_of_year <= 171:  # Mar 20 - Jun 20\n",
    "        return 'spring'\n",
    "    elif 172 <= day_of_year <= 266:  # Jun 21 - Sep 22\n",
    "        return 'summer'\n",
    "    elif 267 <= day_of_year <= 355:  # Sep 23 - Dec 20\n",
    "        return 'autumn'\n",
    "    else:\n",
    "        return 'winter'\n",
    "\n",
    "df_main['season'] = df_main['day_of_year'].apply(get_season)\n",
    "# dataframe.apply(function) := apply a function along an axis of a dataframe"
   ]
  },
  {
   "cell_type": "markdown",
   "metadata": {},
   "source": [
    "2015, 2018: partial summer, full autumn, partial winter <br>\n",
    "2016, 2019: all seasons <br>\n",
    "2017, 2020: partial winter, full spring, partial summer <br>\n",
    "\n",
    "If we are to investigate cancellation *rate* and adr (*\"rate\"*), it is fine to include the partial seasons. <br>\n",
    "I.e. we are not aggregating a sum, which would in that case be distorted by different coverage"
   ]
  },
  {
   "cell_type": "code",
   "execution_count": 37,
   "metadata": {},
   "outputs": [],
   "source": [
    "# Cutom ordering for seasons\n",
    "season_order = [\"spring\", \"summer\", \"autumn\", \"winter\"]\n",
    "df_main['season'] = pd.Categorical(df_main['season'], categories=season_order, ordered=True)"
   ]
  },
  {
   "cell_type": "markdown",
   "metadata": {},
   "source": [
    "# EDA - Univariate Analysis"
   ]
  },
  {
   "cell_type": "code",
   "execution_count": 38,
   "metadata": {},
   "outputs": [
    {
     "data": {
      "text/plain": [
       "arrival_date_year\n",
       "2015    12863\n",
       "2016    41599\n",
       "2017    31293\n",
       "2018    12851\n",
       "2019    54169\n",
       "2020    30629\n",
       "dtype: int64"
      ]
     },
     "execution_count": 38,
     "metadata": {},
     "output_type": "execute_result"
    }
   ],
   "source": [
    "df_main.groupby(df_main[\"arrival_date_year\"]).size()"
   ]
  },
  {
   "cell_type": "code",
   "execution_count": 39,
   "metadata": {},
   "outputs": [
    {
     "data": {
      "text/plain": [
       "arrival_date_year\n",
       "2015    10160\n",
       "2016    30400\n",
       "2017    21187\n",
       "2018    10160\n",
       "2019    40279\n",
       "2020    21187\n",
       "dtype: int64"
      ]
     },
     "execution_count": 39,
     "metadata": {},
     "output_type": "execute_result"
    }
   ],
   "source": [
    "# Sizes conditional on not cancelled\n",
    "df_main[df_main[\"is_canceled\"] == 0].groupby([\"arrival_date_year\"]).size()"
   ]
  },
  {
   "cell_type": "code",
   "execution_count": 40,
   "metadata": {},
   "outputs": [
    {
     "data": {
      "text/plain": [
       "arrival_date_year\n",
       "2015     6\n",
       "2016    12\n",
       "2017     8\n",
       "2018     6\n",
       "2019    12\n",
       "2020     8\n",
       "Name: arrival_date_month, dtype: int64"
      ]
     },
     "execution_count": 40,
     "metadata": {},
     "output_type": "execute_result"
    }
   ],
   "source": [
    "#From documentation, it is known that within data 2015 - 2017, only 2016 is in full, as the data runs from 01 July 2015 to 31 Aug 2017.\n",
    "# Appears same for 2018 - 2020\n",
    "df_main.groupby(\"arrival_date_year\")[\"arrival_date_month\"].nunique()"
   ]
  },
  {
   "cell_type": "code",
   "execution_count": 41,
   "metadata": {},
   "outputs": [
    {
     "data": {
      "text/html": [
       "<div>\n",
       "<style scoped>\n",
       "    .dataframe tbody tr th:only-of-type {\n",
       "        vertical-align: middle;\n",
       "    }\n",
       "\n",
       "    .dataframe tbody tr th {\n",
       "        vertical-align: top;\n",
       "    }\n",
       "\n",
       "    .dataframe thead th {\n",
       "        text-align: right;\n",
       "    }\n",
       "</style>\n",
       "<table border=\"1\" class=\"dataframe\">\n",
       "  <thead>\n",
       "    <tr style=\"text-align: right;\">\n",
       "      <th></th>\n",
       "      <th>arrival_date_year</th>\n",
       "      <th>min</th>\n",
       "      <th>max</th>\n",
       "    </tr>\n",
       "  </thead>\n",
       "  <tbody>\n",
       "    <tr>\n",
       "      <th>0</th>\n",
       "      <td>2015</td>\n",
       "      <td>2015-07-01</td>\n",
       "      <td>2015-12-31</td>\n",
       "    </tr>\n",
       "    <tr>\n",
       "      <th>1</th>\n",
       "      <td>2016</td>\n",
       "      <td>2016-01-01</td>\n",
       "      <td>2016-12-31</td>\n",
       "    </tr>\n",
       "    <tr>\n",
       "      <th>2</th>\n",
       "      <td>2017</td>\n",
       "      <td>2017-01-01</td>\n",
       "      <td>2017-08-31</td>\n",
       "    </tr>\n",
       "    <tr>\n",
       "      <th>3</th>\n",
       "      <td>2018</td>\n",
       "      <td>2018-07-01</td>\n",
       "      <td>2018-12-31</td>\n",
       "    </tr>\n",
       "    <tr>\n",
       "      <th>4</th>\n",
       "      <td>2019</td>\n",
       "      <td>2019-01-01</td>\n",
       "      <td>2019-12-31</td>\n",
       "    </tr>\n",
       "    <tr>\n",
       "      <th>5</th>\n",
       "      <td>2020</td>\n",
       "      <td>2020-01-01</td>\n",
       "      <td>2020-08-31</td>\n",
       "    </tr>\n",
       "  </tbody>\n",
       "</table>\n",
       "</div>"
      ],
      "text/plain": [
       "   arrival_date_year        min        max\n",
       "0               2015 2015-07-01 2015-12-31\n",
       "1               2016 2016-01-01 2016-12-31\n",
       "2               2017 2017-01-01 2017-08-31\n",
       "3               2018 2018-07-01 2018-12-31\n",
       "4               2019 2019-01-01 2019-12-31\n",
       "5               2020 2020-01-01 2020-08-31"
      ]
     },
     "execution_count": 41,
     "metadata": {},
     "output_type": "execute_result"
    }
   ],
   "source": [
    "# To be sure, see min and max dates per year\n",
    "df_main.groupby(\"arrival_date_year\")[\"arrival_date\"].agg(['min', 'max']).reset_index()"
   ]
  },
  {
   "cell_type": "code",
   "execution_count": 42,
   "metadata": {},
   "outputs": [
    {
     "data": {
      "text/html": [
       "<div>\n",
       "<style scoped>\n",
       "    .dataframe tbody tr th:only-of-type {\n",
       "        vertical-align: middle;\n",
       "    }\n",
       "\n",
       "    .dataframe tbody tr th {\n",
       "        vertical-align: top;\n",
       "    }\n",
       "\n",
       "    .dataframe thead th {\n",
       "        text-align: right;\n",
       "    }\n",
       "</style>\n",
       "<table border=\"1\" class=\"dataframe\">\n",
       "  <thead>\n",
       "    <tr style=\"text-align: right;\">\n",
       "      <th></th>\n",
       "      <th>arrival_date_year</th>\n",
       "      <th>count_months_covered</th>\n",
       "    </tr>\n",
       "  </thead>\n",
       "  <tbody>\n",
       "    <tr>\n",
       "      <th>0</th>\n",
       "      <td>2015</td>\n",
       "      <td>6</td>\n",
       "    </tr>\n",
       "    <tr>\n",
       "      <th>1</th>\n",
       "      <td>2016</td>\n",
       "      <td>12</td>\n",
       "    </tr>\n",
       "    <tr>\n",
       "      <th>2</th>\n",
       "      <td>2017</td>\n",
       "      <td>8</td>\n",
       "    </tr>\n",
       "    <tr>\n",
       "      <th>3</th>\n",
       "      <td>2018</td>\n",
       "      <td>6</td>\n",
       "    </tr>\n",
       "    <tr>\n",
       "      <th>4</th>\n",
       "      <td>2019</td>\n",
       "      <td>12</td>\n",
       "    </tr>\n",
       "    <tr>\n",
       "      <th>5</th>\n",
       "      <td>2020</td>\n",
       "      <td>8</td>\n",
       "    </tr>\n",
       "  </tbody>\n",
       "</table>\n",
       "</div>"
      ],
      "text/plain": [
       "   arrival_date_year  count_months_covered\n",
       "0               2015                     6\n",
       "1               2016                    12\n",
       "2               2017                     8\n",
       "3               2018                     6\n",
       "4               2019                    12\n",
       "5               2020                     8"
      ]
     },
     "execution_count": 42,
     "metadata": {},
     "output_type": "execute_result"
    }
   ],
   "source": [
    "# Would make sense to normalise to a per-month basis if comparing YoY (and in fact, YTD i.e. equivalent months)\n",
    "df_months_per_year = df_main.groupby(\"arrival_date_year\", as_index = False)[\"arrival_date_month\"].nunique().rename(columns = {\"arrival_date_month\" : \"count_months_covered\"})\n",
    "df_months_per_year"
   ]
  },
  {
   "cell_type": "code",
   "execution_count": 43,
   "metadata": {},
   "outputs": [
    {
     "data": {
      "text/html": [
       "<div>\n",
       "<style scoped>\n",
       "    .dataframe tbody tr th:only-of-type {\n",
       "        vertical-align: middle;\n",
       "    }\n",
       "\n",
       "    .dataframe tbody tr th {\n",
       "        vertical-align: top;\n",
       "    }\n",
       "\n",
       "    .dataframe thead th {\n",
       "        text-align: right;\n",
       "    }\n",
       "</style>\n",
       "<table border=\"1\" class=\"dataframe\">\n",
       "  <thead>\n",
       "    <tr style=\"text-align: right;\">\n",
       "      <th></th>\n",
       "      <th>arrival_date_year</th>\n",
       "      <th>size</th>\n",
       "      <th>count_months_covered</th>\n",
       "      <th>size_norm</th>\n",
       "    </tr>\n",
       "  </thead>\n",
       "  <tbody>\n",
       "    <tr>\n",
       "      <th>0</th>\n",
       "      <td>2015</td>\n",
       "      <td>12863</td>\n",
       "      <td>6</td>\n",
       "      <td>2143.83</td>\n",
       "    </tr>\n",
       "    <tr>\n",
       "      <th>1</th>\n",
       "      <td>2016</td>\n",
       "      <td>41599</td>\n",
       "      <td>12</td>\n",
       "      <td>3466.58</td>\n",
       "    </tr>\n",
       "    <tr>\n",
       "      <th>2</th>\n",
       "      <td>2017</td>\n",
       "      <td>31293</td>\n",
       "      <td>8</td>\n",
       "      <td>3911.62</td>\n",
       "    </tr>\n",
       "    <tr>\n",
       "      <th>3</th>\n",
       "      <td>2018</td>\n",
       "      <td>12851</td>\n",
       "      <td>6</td>\n",
       "      <td>2141.83</td>\n",
       "    </tr>\n",
       "    <tr>\n",
       "      <th>4</th>\n",
       "      <td>2019</td>\n",
       "      <td>54169</td>\n",
       "      <td>12</td>\n",
       "      <td>4514.08</td>\n",
       "    </tr>\n",
       "    <tr>\n",
       "      <th>5</th>\n",
       "      <td>2020</td>\n",
       "      <td>30629</td>\n",
       "      <td>8</td>\n",
       "      <td>3828.62</td>\n",
       "    </tr>\n",
       "  </tbody>\n",
       "</table>\n",
       "</div>"
      ],
      "text/plain": [
       "   arrival_date_year   size  count_months_covered  size_norm\n",
       "0               2015  12863                     6    2143.83\n",
       "1               2016  41599                    12    3466.58\n",
       "2               2017  31293                     8    3911.62\n",
       "3               2018  12851                     6    2141.83\n",
       "4               2019  54169                    12    4514.08\n",
       "5               2020  30629                     8    3828.62"
      ]
     },
     "execution_count": 43,
     "metadata": {},
     "output_type": "execute_result"
    }
   ],
   "source": [
    "# Bookings per month by year:\n",
    "df_size_by_year = df_main.groupby(df_main[\"arrival_date_year\"], as_index = False).size()\n",
    "df_size_by_year = df_size_by_year.merge(df_months_per_year, on = \"arrival_date_year\")\n",
    "df_size_by_year[\"size_norm\"] = df_size_by_year[\"size\"] / df_size_by_year[\"count_months_covered\"]\n",
    "df_size_by_year"
   ]
  },
  {
   "cell_type": "code",
   "execution_count": 44,
   "metadata": {},
   "outputs": [],
   "source": [
    "# # Seems 2015 vs 2018; 2017 vs 2020 are just copies?\n",
    "# df_main.groupby(\"arrival_date_year\")[\"pax\"].sum()\n",
    "# df_main.groupby(\"arrival_date_year\")[\"nights\"].sum()"
   ]
  },
  {
   "cell_type": "code",
   "execution_count": 45,
   "metadata": {},
   "outputs": [],
   "source": [
    "# # Below indicates the data across years are not copies\n",
    "# cols_to_compare = [col for col in df_main.columns if col not in [\"arrival_date_year\", \"arrival_date\", \"reservation_status\", \"arrival_date_month\", \"arrival_date_day_of_month\", \"arrival_date_week_number\"]]\n",
    "\n",
    "# df_2015 = df_main[df_main[\"arrival_date_year\"] == 2015].sort_values(cols_to_compare).reset_index(drop=True)\n",
    "# df_2018 = df_main[df_main[\"arrival_date_year\"] == 2018].sort_values(cols_to_compare).reset_index(drop=True)\n",
    "\n",
    "# print((df_2015[cols_to_compare]).equals(df_2018[cols_to_compare]))\n",
    "# # https://pandas.pydata.org/docs/reference/api/pandas.DataFrame.equals.html"
   ]
  },
  {
   "cell_type": "code",
   "execution_count": 46,
   "metadata": {},
   "outputs": [
    {
     "data": {
      "text/plain": [
       "hotel\n",
       "City Hotel      110451\n",
       "Resort Hotel     72953\n",
       "dtype: int64"
      ]
     },
     "execution_count": 46,
     "metadata": {},
     "output_type": "execute_result"
    }
   ],
   "source": [
    "# Size split by hotel type\n",
    "df_main.groupby(df_main[\"hotel\"]).size()"
   ]
  },
  {
   "cell_type": "code",
   "execution_count": 47,
   "metadata": {},
   "outputs": [
    {
     "data": {
      "text/plain": [
       "is_canceled\n",
       "0    133373\n",
       "1     50031\n",
       "dtype: int64"
      ]
     },
     "execution_count": 47,
     "metadata": {},
     "output_type": "execute_result"
    }
   ],
   "source": [
    "# Size split by cancellation\n",
    "df_main.groupby(df_main[\"is_canceled\"]).size()"
   ]
  },
  {
   "cell_type": "code",
   "execution_count": 48,
   "metadata": {},
   "outputs": [
    {
     "data": {
      "text/plain": [
       "deposit_type\n",
       "No Deposit    180948\n",
       "Non Refund      2241\n",
       "Refundable       215\n",
       "dtype: int64"
      ]
     },
     "execution_count": 48,
     "metadata": {},
     "output_type": "execute_result"
    }
   ],
   "source": [
    "# Size split by deposit_type\n",
    "df_main.groupby(df_main[\"deposit_type\"]).size()"
   ]
  },
  {
   "cell_type": "markdown",
   "metadata": {},
   "source": [
    "Early conceptual idea: investigate drivers of cancellations, especially if deposit type has impact"
   ]
  },
  {
   "cell_type": "code",
   "execution_count": 49,
   "metadata": {},
   "outputs": [
    {
     "data": {
      "text/html": [
       "<div>\n",
       "<style scoped>\n",
       "    .dataframe tbody tr th:only-of-type {\n",
       "        vertical-align: middle;\n",
       "    }\n",
       "\n",
       "    .dataframe tbody tr th {\n",
       "        vertical-align: top;\n",
       "    }\n",
       "\n",
       "    .dataframe thead th {\n",
       "        text-align: right;\n",
       "    }\n",
       "</style>\n",
       "<table border=\"1\" class=\"dataframe\">\n",
       "  <thead>\n",
       "    <tr style=\"text-align: right;\">\n",
       "      <th></th>\n",
       "      <th>nights</th>\n",
       "    </tr>\n",
       "  </thead>\n",
       "  <tbody>\n",
       "    <tr>\n",
       "      <th>min</th>\n",
       "      <td>0.00</td>\n",
       "    </tr>\n",
       "    <tr>\n",
       "      <th>max</th>\n",
       "      <td>69.00</td>\n",
       "    </tr>\n",
       "    <tr>\n",
       "      <th>mean</th>\n",
       "      <td>3.68</td>\n",
       "    </tr>\n",
       "    <tr>\n",
       "      <th>median</th>\n",
       "      <td>3.00</td>\n",
       "    </tr>\n",
       "    <tr>\n",
       "      <th>std</th>\n",
       "      <td>2.74</td>\n",
       "    </tr>\n",
       "  </tbody>\n",
       "</table>\n",
       "</div>"
      ],
      "text/plain": [
       "        nights\n",
       "min       0.00\n",
       "max      69.00\n",
       "mean      3.68\n",
       "median    3.00\n",
       "std       2.74"
      ]
     },
     "execution_count": 49,
     "metadata": {},
     "output_type": "execute_result"
    }
   ],
   "source": [
    "# Distribution by nights\n",
    "df_main.aggregate({\"nights\" : ['min', 'max', 'mean', 'median', 'std']})"
   ]
  },
  {
   "cell_type": "code",
   "execution_count": 50,
   "metadata": {},
   "outputs": [
    {
     "name": "stdout",
     "output_type": "stream",
     "text": [
      "Q1: 2.0, Q3: 5.0, IQR: 3.0\n"
     ]
    }
   ],
   "source": [
    "Q1_nights = df_main['nights'].quantile(0.25)\n",
    "Q3_nights = df_main['nights'].quantile(0.75)\n",
    "\n",
    "IQR_nights = Q3_nights - Q1_nights\n",
    "\n",
    "print(f\"Q1: {Q1_nights}, Q3: {Q3_nights}, IQR: {IQR_nights}\")"
   ]
  },
  {
   "cell_type": "code",
   "execution_count": 51,
   "metadata": {},
   "outputs": [
    {
     "data": {
      "text/plain": [
       "nights\n",
       "22    29\n",
       "23    12\n",
       "24    12\n",
       "25    28\n",
       "26    12\n",
       "27     9\n",
       "28    72\n",
       "29    25\n",
       "30    24\n",
       "33     5\n",
       "34     2\n",
       "35    10\n",
       "38     2\n",
       "42     8\n",
       "45     2\n",
       "56     4\n",
       "60     3\n",
       "69     2\n",
       "dtype: int64"
      ]
     },
     "execution_count": 51,
     "metadata": {},
     "output_type": "execute_result"
    }
   ],
   "source": [
    "# Whilst 69 nights is many std dev away from mean, it does seem plausible, just from an intuitive sense of hotel booking possibilities\n",
    "# Other values at the tail support idea that this is not completely out of the blue:\n",
    "df_main[df_main[\"nights\"] > 21].groupby(\"nights\").size()"
   ]
  },
  {
   "cell_type": "markdown",
   "metadata": {},
   "source": [
    "Consider categorising nights stayed into custom short/medium/long stays"
   ]
  },
  {
   "cell_type": "code",
   "execution_count": 52,
   "metadata": {},
   "outputs": [
    {
     "data": {
      "text/plain": [
       "0"
      ]
     },
     "execution_count": 52,
     "metadata": {},
     "output_type": "execute_result"
    }
   ],
   "source": [
    "# Nights := number of nights guest did stay or booked to stay\n",
    "# Note too that any instances of nights == 0 necessarily has is_canceled = 1\n",
    "# Which may or may not be of business importance - best to check.\n",
    "# Realistically, room probably can be booked for zero nights, so leave as is\n",
    "# len(df_main.loc[(df_main[\"nights\"] == 0) & (df_main[\"is_canceled\"] == 0)])\n",
    "\n",
    "len(df_main[((df_main[\"nights\"] == 0) & (df_main[\"is_canceled\"] == 0))])"
   ]
  },
  {
   "cell_type": "code",
   "execution_count": 53,
   "metadata": {},
   "outputs": [
    {
     "data": {
      "text/html": [
       "<div>\n",
       "<style scoped>\n",
       "    .dataframe tbody tr th:only-of-type {\n",
       "        vertical-align: middle;\n",
       "    }\n",
       "\n",
       "    .dataframe tbody tr th {\n",
       "        vertical-align: top;\n",
       "    }\n",
       "\n",
       "    .dataframe thead th {\n",
       "        text-align: right;\n",
       "    }\n",
       "</style>\n",
       "<table border=\"1\" class=\"dataframe\">\n",
       "  <thead>\n",
       "    <tr style=\"text-align: right;\">\n",
       "      <th></th>\n",
       "      <th>pax</th>\n",
       "    </tr>\n",
       "  </thead>\n",
       "  <tbody>\n",
       "    <tr>\n",
       "      <th>min</th>\n",
       "      <td>1.00</td>\n",
       "    </tr>\n",
       "    <tr>\n",
       "      <th>max</th>\n",
       "      <td>55.00</td>\n",
       "    </tr>\n",
       "    <tr>\n",
       "      <th>mean</th>\n",
       "      <td>2.03</td>\n",
       "    </tr>\n",
       "    <tr>\n",
       "      <th>median</th>\n",
       "      <td>2.00</td>\n",
       "    </tr>\n",
       "    <tr>\n",
       "      <th>std</th>\n",
       "      <td>0.82</td>\n",
       "    </tr>\n",
       "  </tbody>\n",
       "</table>\n",
       "</div>"
      ],
      "text/plain": [
       "         pax\n",
       "min     1.00\n",
       "max    55.00\n",
       "mean    2.03\n",
       "median  2.00\n",
       "std     0.82"
      ]
     },
     "execution_count": 53,
     "metadata": {},
     "output_type": "execute_result"
    }
   ],
   "source": [
    "# Distribution by pax\n",
    "df_main.aggregate({\"pax\" : ['min', 'max', 'mean', 'median', 'std']})"
   ]
  },
  {
   "cell_type": "code",
   "execution_count": 54,
   "metadata": {},
   "outputs": [
    {
     "name": "stdout",
     "output_type": "stream",
     "text": [
      "Q1: 2.0, Q3: 2.0, IQR: 0.0\n"
     ]
    }
   ],
   "source": [
    "Q1_pax = df_main['pax'].quantile(0.25)\n",
    "Q3_pax = df_main['pax'].quantile(0.75)\n",
    "\n",
    "IQR_pax = Q3_pax - Q1_pax\n",
    "\n",
    "print(f\"Q1: {Q1_pax}, Q3: {Q3_pax}, IQR: {IQR_pax}\")"
   ]
  },
  {
   "cell_type": "code",
   "execution_count": 55,
   "metadata": {},
   "outputs": [
    {
     "data": {
      "text/plain": [
       "pax\n",
       "1      33397\n",
       "2     120813\n",
       "3      20822\n",
       "4       8040\n",
       "5        282\n",
       "6          3\n",
       "10         6\n",
       "12         5\n",
       "20         6\n",
       "26        15\n",
       "27         6\n",
       "40         3\n",
       "50         3\n",
       "55         3\n",
       "dtype: int64"
      ]
     },
     "execution_count": 55,
     "metadata": {},
     "output_type": "execute_result"
    }
   ],
   "source": [
    "# 55 pax is mny std dev away from mean, but as with 'nights', is probably a situation where statistical norms take second place to business sense,\n",
    "# and it does seem reasonable for a booking of 55 pax to emerge, especially from a 'Group' or 'Corporate' category.\n",
    "# Would intend to check on this for a real stakeholder. For this project, leave as is\n",
    "# Other values at the tail support idea that this is not completely out of the blue:\n",
    "df_main.groupby(\"pax\").size()"
   ]
  },
  {
   "cell_type": "markdown",
   "metadata": {},
   "source": [
    "As with # nights, consider categorising pax in groups"
   ]
  },
  {
   "cell_type": "code",
   "execution_count": 56,
   "metadata": {},
   "outputs": [],
   "source": [
    "# Other sizing and distributions\n",
    "# df_main.groupby(\"distribution_channel\")[\"pax\"].agg(['mean', 'median', 'min', 'max'])\n",
    "# df_main.groupby(\"customer_type\")[\"pax\"].agg(['mean', 'median', 'min', 'max'])\n",
    "# df_main.groupby(\"market_segment\")[\"pax\"].agg(['mean', 'median', 'min', 'max'])\n",
    "# df_main.groupby([\"reserved_room_type\"]).size()\n",
    "# df_main.groupby([\"assigned_room_type\"]).size()"
   ]
  },
  {
   "cell_type": "code",
   "execution_count": 57,
   "metadata": {},
   "outputs": [
    {
     "data": {
      "text/html": [
       "<div>\n",
       "<style scoped>\n",
       "    .dataframe tbody tr th:only-of-type {\n",
       "        vertical-align: middle;\n",
       "    }\n",
       "\n",
       "    .dataframe tbody tr th {\n",
       "        vertical-align: top;\n",
       "    }\n",
       "\n",
       "    .dataframe thead th {\n",
       "        text-align: right;\n",
       "    }\n",
       "</style>\n",
       "<table border=\"1\" class=\"dataframe\">\n",
       "  <thead>\n",
       "    <tr style=\"text-align: right;\">\n",
       "      <th></th>\n",
       "      <th>lead_time</th>\n",
       "    </tr>\n",
       "  </thead>\n",
       "  <tbody>\n",
       "    <tr>\n",
       "      <th>min</th>\n",
       "      <td>0.00</td>\n",
       "    </tr>\n",
       "    <tr>\n",
       "      <th>max</th>\n",
       "      <td>709.00</td>\n",
       "    </tr>\n",
       "    <tr>\n",
       "      <th>mean</th>\n",
       "      <td>78.92</td>\n",
       "    </tr>\n",
       "    <tr>\n",
       "      <th>median</th>\n",
       "      <td>48.00</td>\n",
       "    </tr>\n",
       "    <tr>\n",
       "      <th>std</th>\n",
       "      <td>85.20</td>\n",
       "    </tr>\n",
       "  </tbody>\n",
       "</table>\n",
       "</div>"
      ],
      "text/plain": [
       "        lead_time\n",
       "min          0.00\n",
       "max        709.00\n",
       "mean        78.92\n",
       "median      48.00\n",
       "std         85.20"
      ]
     },
     "execution_count": 57,
     "metadata": {},
     "output_type": "execute_result"
    }
   ],
   "source": [
    "# Distribution by lead time\n",
    "df_main.aggregate({\"lead_time\" : ['min', 'max', 'mean', 'median', 'std']})"
   ]
  },
  {
   "cell_type": "code",
   "execution_count": 58,
   "metadata": {},
   "outputs": [
    {
     "name": "stdout",
     "output_type": "stream",
     "text": [
      "Q1: 11.0, Q3: 123.0, IQR: 112.0\n"
     ]
    }
   ],
   "source": [
    "Q1_lead_time = df_main['lead_time'].quantile(0.25)\n",
    "Q3_lead_time = df_main['lead_time'].quantile(0.75)\n",
    "\n",
    "IQR_lead_time = Q3_lead_time - Q1_lead_time\n",
    "\n",
    "print(f\"Q1: {Q1_lead_time}, Q3: {Q3_lead_time}, IQR: {IQR_lead_time}\")"
   ]
  },
  {
   "cell_type": "code",
   "execution_count": 59,
   "metadata": {},
   "outputs": [
    {
     "data": {
      "text/plain": [
       "lead_time\n",
       "123    440\n",
       "124    455\n",
       "125    422\n",
       "126    395\n",
       "127    402\n",
       "      ... \n",
       "615      4\n",
       "622      4\n",
       "626      2\n",
       "629      4\n",
       "709      2\n",
       "Length: 355, dtype: int64"
      ]
     },
     "execution_count": 59,
     "metadata": {},
     "output_type": "execute_result"
    }
   ],
   "source": [
    "# Booking 709d in advance is quite far out, but still believable, and below suggests it is part of a legitimate long tail\n",
    "df_main[df_main[\"lead_time\"] >= 123].groupby([\"lead_time\"]).size()"
   ]
  },
  {
   "cell_type": "markdown",
   "metadata": {},
   "source": [
    "Likewise consider making categories to batch lead_times into manageable groups"
   ]
  },
  {
   "cell_type": "markdown",
   "metadata": {},
   "source": [
    "TA = Travel Agents\n",
    "TO = Tour Operators"
   ]
  },
  {
   "cell_type": "code",
   "execution_count": 60,
   "metadata": {},
   "outputs": [
    {
     "data": {
      "text/plain": [
       "market_segment\n",
       "Aviation            446\n",
       "Complementary       306\n",
       "Corporate          9104\n",
       "Direct            25207\n",
       "Groups            10625\n",
       "Offline TA/TO     30159\n",
       "Online TA        107551\n",
       "Undefined             6\n",
       "dtype: int64"
      ]
     },
     "execution_count": 60,
     "metadata": {},
     "output_type": "execute_result"
    }
   ],
   "source": [
    "df_main.groupby(\"market_segment\").size()"
   ]
  },
  {
   "cell_type": "code",
   "execution_count": 61,
   "metadata": {},
   "outputs": [
    {
     "data": {
      "text/plain": [
       "distribution_channel\n",
       "Corporate     10749\n",
       "Direct        26766\n",
       "GDS             355\n",
       "TA/TO        145519\n",
       "Undefined        15\n",
       "dtype: int64"
      ]
     },
     "execution_count": 61,
     "metadata": {},
     "output_type": "execute_result"
    }
   ],
   "source": [
    "df_main.groupby([\"distribution_channel\"]).size()"
   ]
  },
  {
   "cell_type": "markdown",
   "metadata": {},
   "source": [
    "Agent := ID of travel angency making booking"
   ]
  },
  {
   "cell_type": "code",
   "execution_count": 62,
   "metadata": {},
   "outputs": [
    {
     "data": {
      "text/html": [
       "<div>\n",
       "<style scoped>\n",
       "    .dataframe tbody tr th:only-of-type {\n",
       "        vertical-align: middle;\n",
       "    }\n",
       "\n",
       "    .dataframe tbody tr th {\n",
       "        vertical-align: top;\n",
       "    }\n",
       "\n",
       "    .dataframe thead th {\n",
       "        text-align: right;\n",
       "    }\n",
       "</style>\n",
       "<table border=\"1\" class=\"dataframe\">\n",
       "  <thead>\n",
       "    <tr style=\"text-align: right;\">\n",
       "      <th></th>\n",
       "      <th>distribution_channel</th>\n",
       "      <th>market_segment</th>\n",
       "    </tr>\n",
       "  </thead>\n",
       "  <tbody>\n",
       "    <tr>\n",
       "      <th>0</th>\n",
       "      <td>TA/TO</td>\n",
       "      <td>Online TA</td>\n",
       "    </tr>\n",
       "    <tr>\n",
       "      <th>1</th>\n",
       "      <td>TA/TO</td>\n",
       "      <td>Offline TA/TO</td>\n",
       "    </tr>\n",
       "    <tr>\n",
       "      <th>18</th>\n",
       "      <td>Direct</td>\n",
       "      <td>Direct</td>\n",
       "    </tr>\n",
       "    <tr>\n",
       "      <th>67</th>\n",
       "      <td>TA/TO</td>\n",
       "      <td>Direct</td>\n",
       "    </tr>\n",
       "    <tr>\n",
       "      <th>82</th>\n",
       "      <td>Direct</td>\n",
       "      <td>Groups</td>\n",
       "    </tr>\n",
       "    <tr>\n",
       "      <th>360</th>\n",
       "      <td>Corporate</td>\n",
       "      <td>Corporate</td>\n",
       "    </tr>\n",
       "    <tr>\n",
       "      <th>562</th>\n",
       "      <td>TA/TO</td>\n",
       "      <td>Groups</td>\n",
       "    </tr>\n",
       "    <tr>\n",
       "      <th>954</th>\n",
       "      <td>Corporate</td>\n",
       "      <td>Groups</td>\n",
       "    </tr>\n",
       "    <tr>\n",
       "      <th>2354</th>\n",
       "      <td>Undefined</td>\n",
       "      <td>Direct</td>\n",
       "    </tr>\n",
       "    <tr>\n",
       "      <th>2445</th>\n",
       "      <td>Undefined</td>\n",
       "      <td>Online TA</td>\n",
       "    </tr>\n",
       "    <tr>\n",
       "      <th>7424</th>\n",
       "      <td>Corporate</td>\n",
       "      <td>Online TA</td>\n",
       "    </tr>\n",
       "    <tr>\n",
       "      <th>7883</th>\n",
       "      <td>Direct</td>\n",
       "      <td>Complementary</td>\n",
       "    </tr>\n",
       "    <tr>\n",
       "      <th>9388</th>\n",
       "      <td>Direct</td>\n",
       "      <td>Offline TA/TO</td>\n",
       "    </tr>\n",
       "    <tr>\n",
       "      <th>10498</th>\n",
       "      <td>Corporate</td>\n",
       "      <td>Complementary</td>\n",
       "    </tr>\n",
       "    <tr>\n",
       "      <th>12304</th>\n",
       "      <td>TA/TO</td>\n",
       "      <td>Complementary</td>\n",
       "    </tr>\n",
       "    <tr>\n",
       "      <th>13743</th>\n",
       "      <td>TA/TO</td>\n",
       "      <td>Corporate</td>\n",
       "    </tr>\n",
       "    <tr>\n",
       "      <th>14653</th>\n",
       "      <td>Direct</td>\n",
       "      <td>Online TA</td>\n",
       "    </tr>\n",
       "    <tr>\n",
       "      <th>16375</th>\n",
       "      <td>GDS</td>\n",
       "      <td>Online TA</td>\n",
       "    </tr>\n",
       "    <tr>\n",
       "      <th>20988</th>\n",
       "      <td>Direct</td>\n",
       "      <td>Corporate</td>\n",
       "    </tr>\n",
       "    <tr>\n",
       "      <th>6755</th>\n",
       "      <td>Corporate</td>\n",
       "      <td>Aviation</td>\n",
       "    </tr>\n",
       "    <tr>\n",
       "      <th>7579</th>\n",
       "      <td>GDS</td>\n",
       "      <td>Offline TA/TO</td>\n",
       "    </tr>\n",
       "    <tr>\n",
       "      <th>9214</th>\n",
       "      <td>Corporate</td>\n",
       "      <td>Offline TA/TO</td>\n",
       "    </tr>\n",
       "    <tr>\n",
       "      <th>21611</th>\n",
       "      <td>Corporate</td>\n",
       "      <td>Direct</td>\n",
       "    </tr>\n",
       "    <tr>\n",
       "      <th>36463</th>\n",
       "      <td>TA/TO</td>\n",
       "      <td>Aviation</td>\n",
       "    </tr>\n",
       "  </tbody>\n",
       "</table>\n",
       "</div>"
      ],
      "text/plain": [
       "      distribution_channel market_segment\n",
       "0                    TA/TO      Online TA\n",
       "1                    TA/TO  Offline TA/TO\n",
       "18                  Direct         Direct\n",
       "67                   TA/TO         Direct\n",
       "82                  Direct         Groups\n",
       "360              Corporate      Corporate\n",
       "562                  TA/TO         Groups\n",
       "954              Corporate         Groups\n",
       "2354             Undefined         Direct\n",
       "2445             Undefined      Online TA\n",
       "7424             Corporate      Online TA\n",
       "7883                Direct  Complementary\n",
       "9388                Direct  Offline TA/TO\n",
       "10498            Corporate  Complementary\n",
       "12304                TA/TO  Complementary\n",
       "13743                TA/TO      Corporate\n",
       "14653               Direct      Online TA\n",
       "16375                  GDS      Online TA\n",
       "20988               Direct      Corporate\n",
       "6755             Corporate       Aviation\n",
       "7579                   GDS  Offline TA/TO\n",
       "9214             Corporate  Offline TA/TO\n",
       "21611            Corporate         Direct\n",
       "36463                TA/TO       Aviation"
      ]
     },
     "execution_count": 62,
     "metadata": {},
     "output_type": "execute_result"
    }
   ],
   "source": [
    "# Note below examples of agent not null but other relevant columns not strictly being 'TA', which is what we would expect, given the terminology at hand\n",
    "# ... not strictly intuitive what the business definitions here are - worth clarifying with SME. For now just leave as is (don't drop, etc.)\n",
    "agent_not_null = df_main[df_main['agent'].notna()]\n",
    "agent_not_null = agent_not_null[['distribution_channel', 'market_segment']].drop_duplicates().copy()\n",
    "agent_not_null"
   ]
  },
  {
   "cell_type": "code",
   "execution_count": 63,
   "metadata": {},
   "outputs": [
    {
     "data": {
      "text/plain": [
       "333"
      ]
     },
     "execution_count": 63,
     "metadata": {},
     "output_type": "execute_result"
    }
   ],
   "source": [
    "# There are 333 distinct agents\n",
    "len(df_main[\"agent\"].unique())"
   ]
  },
  {
   "cell_type": "markdown",
   "metadata": {},
   "source": [
    "'Company' := ID of the company/entity that made the booking or responsible for paying the booking"
   ]
  },
  {
   "cell_type": "code",
   "execution_count": 64,
   "metadata": {},
   "outputs": [
    {
     "data": {
      "text/plain": [
       "346"
      ]
     },
     "execution_count": 64,
     "metadata": {},
     "output_type": "execute_result"
    }
   ],
   "source": [
    "# There are 346 distinct companies\n",
    "len(df_main[\"company\"].unique())"
   ]
  },
  {
   "cell_type": "markdown",
   "metadata": {},
   "source": [
    "**Univariate Analysis Takeaways**\n",
    "\n",
    "- There is expansive data / large ranges in interesting possible variables (probably independent) like pax, lead-time, market-segment, distribution channel, nights, cancellations\n",
    "- Such that for numerical ones like nights and pax, may be adviseable to create categories for classifying batches\n",
    "- As is probably expected, nights and pax have a tendency towards lower numbers (smaller bookings for fewer nights), but this does not mean an absence of larger, longer bookings"
   ]
  },
  {
   "cell_type": "markdown",
   "metadata": {},
   "source": [
    "# Multiple Variate Analysis Ideas"
   ]
  },
  {
   "cell_type": "markdown",
   "metadata": {},
   "source": [
    "1. **Cancellations** are a key metric to track. See across:\n",
    "- Chronological time - note issue that there is a gap due to data collected having missing months\n",
    "- Seasons (i.e. time of year, regardless of actual year)\n",
    "- lead time - note this helps especially with the gap in the data\n",
    "- market_segment, distribution_channel, customer_type, etc.\n",
    "\n",
    "2. **adr** is another important outcome. May wish to investigate hypothesis of inverse correlation between adr and nights (longer stay = cheaper per night)\n",
    "- Plus calculate actual revenue from booking, and investigate e.g. is per-period revenue up or down, and is this due to fewer bookings or less valuable ones?\n",
    "- Hence **num bookings** becomes another metric"
   ]
  },
  {
   "cell_type": "markdown",
   "metadata": {},
   "source": [
    "# Cancellations Analysis"
   ]
  },
  {
   "cell_type": "markdown",
   "metadata": {},
   "source": [
    "- 'is_canceled' refers to hotel booking system\n",
    "- 'reservation_status' refers to customer decision (canceled or no-show or checked-out already)\n",
    "- Here, we will look into reservation_status == 'Canceled' --> has the customer announced a conscious decision to cancel?\n"
   ]
  },
  {
   "cell_type": "markdown",
   "metadata": {},
   "source": [
    "https://experience-crm.fr/en/where-do-cancellations-come-from/#:~:text=Average%20cancellation%20rates&text=The%20average%20percentage%20of%20canceled,no%20room%20for%20nasty%20surprises.\n",
    "- Published 2016-11-14\n",
    "- Modified 2023-08-02\n",
    "- The average percentage of canceled reservations, across **all sources**, is currently **24%**.\n",
    "-  If you look only at **online** bookings, this rate increases to **38%**,\n",
    "- and therefore all **“offline”** reservations [...] 10%.\n",
    "\n",
    "https://hospitalitytech.com/global-cancellation-rate-hotel-reservations-reaches-40-average\n",
    "- Published 2019-04-24; Modified 01/14/2025\n",
    "- **online** distribution performance of more than 200 different channels for 680 properties in Europe between 2014 and 2018\n",
    "- With the exception of 2018, every single channel has observed a marked increase in cancellation rate YoY.\n",
    "- And, even in 2018, the number was 7.1 points above 2014.\n",
    "- With a global average of almost **40%** cancellation rate [...].\n",
    "- 2014 to 2018: 32.5%, 34.8%, 39.6%, 41.3%, 39.6%\n",
    "- Across **online** sources: Booking Group, Expedia Group, Hotelbeds Group, HRS Group, Other OTAs, Other Wholesalers, Website Direct\n",
    "\n",
    "https://www.phocuswire.com/One-in-five-hotel-bookings-on-the-web-are-cancelled\n",
    "- Published 31 Dec, 2015\n",
    "- Some **19%** of hotels that are booked **online** are cancelled before the guest arrives at the hotel, according to data provided by \n",
    "\n",
    "https://www.d-edge.com/avoid-guests-ghosting/\n",
    "- According to our 2024 Hotel Distribution Report, hotel booking cancellation rates range from 18% to 42%.\n",
    "- In Europe, the cancellation rate for direct bookings was 18% in 2023 [...] these rates increased for OTA bookings: in Europe, Expedia had a cancellation rate of 31%, while Booking Holdings reached 42%. \n"
   ]
  },
  {
   "cell_type": "code",
   "execution_count": null,
   "metadata": {},
   "outputs": [
    {
     "name": "stdout",
     "output_type": "stream",
     "text": [
      "47852 183404 26.1\n"
     ]
    }
   ],
   "source": [
    "# 26.1% of bookings end up being canceled by the customer\n",
    "# As illustrated above, channel is important to distinguishing / benchmarking performance\n",
    "# With this limited perspective (considering all channels indiscriminately), we might say 26.1% is acceptable / comaprable to market standards, but not outstanding\n",
    "# Although we might better treat the '40%' value as an outlier, and thus deem our cancellation rate over the benchmark, and in need of special attention\n",
    "# (18% < 24% < 26.1% < ~40%)\n",
    "len_canc = len(df_main[df_main[\"reservation_status\"] == 'Canceled'])\n",
    "len_total = len(df_main)\n",
    "\n",
    "print(len_canc, len_total, round((len_canc / len_total), 3) * 100)"
   ]
  },
  {
   "cell_type": "markdown",
   "metadata": {},
   "source": [
    "## Cancellation Rate over Time"
   ]
  },
  {
   "cell_type": "code",
   "execution_count": null,
   "metadata": {},
   "outputs": [
    {
     "data": {
      "text/html": [
       "<div>\n",
       "<style scoped>\n",
       "    .dataframe tbody tr th:only-of-type {\n",
       "        vertical-align: middle;\n",
       "    }\n",
       "\n",
       "    .dataframe tbody tr th {\n",
       "        vertical-align: top;\n",
       "    }\n",
       "\n",
       "    .dataframe thead th {\n",
       "        text-align: right;\n",
       "    }\n",
       "</style>\n",
       "<table border=\"1\" class=\"dataframe\">\n",
       "  <thead>\n",
       "    <tr style=\"text-align: right;\">\n",
       "      <th></th>\n",
       "      <th>arrival_date_year</th>\n",
       "      <th>cancellation_rate</th>\n",
       "      <th>bookings</th>\n",
       "      <th>cancellations</th>\n",
       "    </tr>\n",
       "  </thead>\n",
       "  <tbody>\n",
       "    <tr>\n",
       "      <th>0</th>\n",
       "      <td>2015</td>\n",
       "      <td>0.21</td>\n",
       "      <td>12863</td>\n",
       "      <td>2703</td>\n",
       "    </tr>\n",
       "    <tr>\n",
       "      <th>1</th>\n",
       "      <td>2016</td>\n",
       "      <td>0.27</td>\n",
       "      <td>41599</td>\n",
       "      <td>11199</td>\n",
       "    </tr>\n",
       "    <tr>\n",
       "      <th>2</th>\n",
       "      <td>2017</td>\n",
       "      <td>0.32</td>\n",
       "      <td>31293</td>\n",
       "      <td>10106</td>\n",
       "    </tr>\n",
       "    <tr>\n",
       "      <th>3</th>\n",
       "      <td>2018</td>\n",
       "      <td>0.21</td>\n",
       "      <td>12851</td>\n",
       "      <td>2691</td>\n",
       "    </tr>\n",
       "    <tr>\n",
       "      <th>4</th>\n",
       "      <td>2019</td>\n",
       "      <td>0.26</td>\n",
       "      <td>54169</td>\n",
       "      <td>13890</td>\n",
       "    </tr>\n",
       "    <tr>\n",
       "      <th>5</th>\n",
       "      <td>2020</td>\n",
       "      <td>0.31</td>\n",
       "      <td>30629</td>\n",
       "      <td>9442</td>\n",
       "    </tr>\n",
       "  </tbody>\n",
       "</table>\n",
       "</div>"
      ],
      "text/plain": [
       "   arrival_date_year  cancellation_rate  bookings  cancellations\n",
       "0               2015               0.21     12863           2703\n",
       "1               2016               0.27     41599          11199\n",
       "2               2017               0.32     31293          10106\n",
       "3               2018               0.21     12851           2691\n",
       "4               2019               0.26     54169          13890\n",
       "5               2020               0.31     30629           9442"
      ]
     },
     "execution_count": 67,
     "metadata": {},
     "output_type": "execute_result"
    }
   ],
   "source": [
    "# Relatively lower cancellation rate in 2015, 2018 hints at systematically lower cancellation rates in Autumn and Winter.\n",
    "# Good to get to the bottom of that, as a 11 p.p. swing from lowest to highest rate is fairly large and probably has revenue management implications\n",
    "# The above is approx 50% relative increase, so fairly substantial\n",
    "df_yyyy_cancellations = df_main.groupby(\"arrival_date_year\").size().reset_index().rename(columns = {0 : \"bookings\"})\n",
    "\n",
    "df_yyyy_cancellations2 = df_main[[\"arrival_date_year\", \"is_canceled\"]].groupby(\"arrival_date_year\")[\"is_canceled\"].sum().reset_index().rename(columns = {\"is_canceled\" : \"cancellations\"})\n",
    "\n",
    "df_yyyy_cancellations = df_yyyy_cancellations.merge(df_yyyy_cancellations2, on = \"arrival_date_year\")\n",
    "\n",
    "df_yyyy_cancellations[\"cancellation_rate\"] = df_yyyy_cancellations[\"cancellations\"] / df_yyyy_cancellations[\"bookings\"]\n",
    "df_yyyy_cancellations = df_yyyy_cancellations[[\"arrival_date_year\", \"cancellation_rate\", \"bookings\", \"cancellations\"]]\n",
    "df_yyyy_cancellations"
   ]
  },
  {
   "cell_type": "code",
   "execution_count": null,
   "metadata": {},
   "outputs": [
    {
     "name": "stderr",
     "output_type": "stream",
     "text": [
      "C:\\Users\\danie\\AppData\\Local\\Temp\\ipykernel_22452\\1460526646.py:4: FutureWarning: The default of observed=False is deprecated and will be changed to True in a future version of pandas. Pass observed=False to retain current behavior or observed=True to adopt the future default and silence this warning.\n",
      "  df_seasonal_cancellations = df_main.groupby(\"season\").size().reset_index().rename(columns = {0 : \"bookings\"})\n",
      "C:\\Users\\danie\\AppData\\Local\\Temp\\ipykernel_22452\\1460526646.py:6: FutureWarning: The default of observed=False is deprecated and will be changed to True in a future version of pandas. Pass observed=False to retain current behavior or observed=True to adopt the future default and silence this warning.\n",
      "  df_seasonal_cancellations2 = df_main[[\"season\", \"is_canceled\"]].groupby(\"season\")[\"is_canceled\"].sum().reset_index().rename(columns = {\"is_canceled\" : \"cancellations\"})\n"
     ]
    },
    {
     "data": {
      "text/html": [
       "<div>\n",
       "<style scoped>\n",
       "    .dataframe tbody tr th:only-of-type {\n",
       "        vertical-align: middle;\n",
       "    }\n",
       "\n",
       "    .dataframe tbody tr th {\n",
       "        vertical-align: top;\n",
       "    }\n",
       "\n",
       "    .dataframe thead th {\n",
       "        text-align: right;\n",
       "    }\n",
       "</style>\n",
       "<table border=\"1\" class=\"dataframe\">\n",
       "  <thead>\n",
       "    <tr style=\"text-align: right;\">\n",
       "      <th></th>\n",
       "      <th>season</th>\n",
       "      <th>cancellation_rate</th>\n",
       "      <th>bookings</th>\n",
       "      <th>cancellations</th>\n",
       "    </tr>\n",
       "  </thead>\n",
       "  <tbody>\n",
       "    <tr>\n",
       "      <th>0</th>\n",
       "      <td>spring</td>\n",
       "      <td>0.29</td>\n",
       "      <td>47128</td>\n",
       "      <td>13740</td>\n",
       "    </tr>\n",
       "    <tr>\n",
       "      <th>1</th>\n",
       "      <td>summer</td>\n",
       "      <td>0.30</td>\n",
       "      <td>63464</td>\n",
       "      <td>19168</td>\n",
       "    </tr>\n",
       "    <tr>\n",
       "      <th>2</th>\n",
       "      <td>autumn</td>\n",
       "      <td>0.23</td>\n",
       "      <td>37773</td>\n",
       "      <td>8589</td>\n",
       "    </tr>\n",
       "    <tr>\n",
       "      <th>3</th>\n",
       "      <td>winter</td>\n",
       "      <td>0.24</td>\n",
       "      <td>35039</td>\n",
       "      <td>8534</td>\n",
       "    </tr>\n",
       "  </tbody>\n",
       "</table>\n",
       "</div>"
      ],
      "text/plain": [
       "   season  cancellation_rate  bookings  cancellations\n",
       "0  spring               0.29     47128          13740\n",
       "1  summer               0.30     63464          19168\n",
       "2  autumn               0.23     37773           8589\n",
       "3  winter               0.24     35039           8534"
      ]
     },
     "execution_count": 69,
     "metadata": {},
     "output_type": "execute_result"
    }
   ],
   "source": [
    "# The above implies a year-effect on cancellation rate, however we must remember that certain years lack data from certain seasons.\n",
    "# Notably, 2015 and 2018, 16/19, and 17/20 are paired in terms of seasonal coverage - their different cancellation rates might well be a seasonal effect\n",
    "# Reminder:\n",
    "    # 2015, 2018: partial summer, full autumn, partial winter; 2016, 2019: all seasons; 2017, 2020: partial winter, full spring, partial summer.\n",
    "# As below, Spring higher and Autumn lower: this suggests a seasonal explanation to the relatively lower/higher cancellation rate in 2015 and 2018 / 2017 and 2020\n",
    "\n",
    "df_seasonal_cancellations = df_main.groupby(\"season\").size().reset_index().rename(columns = {0 : \"bookings\"})\n",
    "\n",
    "df_seasonal_cancellations2 = df_main[[\"season\", \"is_canceled\"]].groupby(\"season\")[\"is_canceled\"].sum().reset_index().rename(columns = {\"is_canceled\" : \"cancellations\"})\n",
    "\n",
    "df_seasonal_cancellations = df_seasonal_cancellations.merge(df_seasonal_cancellations2, on = \"season\")\n",
    "\n",
    "df_seasonal_cancellations[\"cancellation_rate\"] = df_seasonal_cancellations[\"cancellations\"] / df_seasonal_cancellations[\"bookings\"]\n",
    "df_seasonal_cancellations = df_seasonal_cancellations[[\"season\", \"cancellation_rate\", \"bookings\", \"cancellations\"]]\n",
    "df_seasonal_cancellations"
   ]
  },
  {
   "cell_type": "code",
   "execution_count": null,
   "metadata": {},
   "outputs": [
    {
     "name": "stderr",
     "output_type": "stream",
     "text": [
      "C:\\Users\\danie\\AppData\\Local\\Temp\\ipykernel_13020\\1404188007.py:1: FutureWarning: The default of observed=False is deprecated and will be changed to True in a future version of pandas. Pass observed=False to retain current behavior or observed=True to adopt the future default and silence this warning.\n",
      "  df_seasonal_cancellations = df_main.groupby([\"season\", \"arrival_date_year\"]).size().reset_index().rename(columns = {0 : \"bookings\"})\n",
      "C:\\Users\\danie\\AppData\\Local\\Temp\\ipykernel_13020\\1404188007.py:3: FutureWarning: The default of observed=False is deprecated and will be changed to True in a future version of pandas. Pass observed=False to retain current behavior or observed=True to adopt the future default and silence this warning.\n",
      "  df_seasonal_cancellations2 = df_main[[\"season\", \"arrival_date_year\", \"is_canceled\"]].groupby([\"season\", \"arrival_date_year\"])[\"is_canceled\"].sum().reset_index().rename(columns = {\"is_canceled\" : \"cancellations\"})\n"
     ]
    },
    {
     "data": {
      "text/html": [
       "<div>\n",
       "<style scoped>\n",
       "    .dataframe tbody tr th:only-of-type {\n",
       "        vertical-align: middle;\n",
       "    }\n",
       "\n",
       "    .dataframe tbody tr th {\n",
       "        vertical-align: top;\n",
       "    }\n",
       "\n",
       "    .dataframe thead th {\n",
       "        text-align: right;\n",
       "    }\n",
       "</style>\n",
       "<table border=\"1\" class=\"dataframe\">\n",
       "  <thead>\n",
       "    <tr style=\"text-align: right;\">\n",
       "      <th></th>\n",
       "      <th>season</th>\n",
       "      <th>arrival_date_year</th>\n",
       "      <th>cancellation_rate</th>\n",
       "      <th>bookings</th>\n",
       "      <th>cancellations</th>\n",
       "    </tr>\n",
       "  </thead>\n",
       "  <tbody>\n",
       "    <tr>\n",
       "      <th>0</th>\n",
       "      <td>spring</td>\n",
       "      <td>2015</td>\n",
       "      <td>NaN</td>\n",
       "      <td>0</td>\n",
       "      <td>0</td>\n",
       "    </tr>\n",
       "    <tr>\n",
       "      <th>1</th>\n",
       "      <td>spring</td>\n",
       "      <td>2016</td>\n",
       "      <td>0.26</td>\n",
       "      <td>11116</td>\n",
       "      <td>2922</td>\n",
       "    </tr>\n",
       "    <tr>\n",
       "      <th>2</th>\n",
       "      <td>spring</td>\n",
       "      <td>2017</td>\n",
       "      <td>0.33</td>\n",
       "      <td>12645</td>\n",
       "      <td>4140</td>\n",
       "    </tr>\n",
       "    <tr>\n",
       "      <th>3</th>\n",
       "      <td>spring</td>\n",
       "      <td>2018</td>\n",
       "      <td>NaN</td>\n",
       "      <td>0</td>\n",
       "      <td>0</td>\n",
       "    </tr>\n",
       "    <tr>\n",
       "      <th>4</th>\n",
       "      <td>spring</td>\n",
       "      <td>2019</td>\n",
       "      <td>0.26</td>\n",
       "      <td>11117</td>\n",
       "      <td>2927</td>\n",
       "    </tr>\n",
       "    <tr>\n",
       "      <th>5</th>\n",
       "      <td>spring</td>\n",
       "      <td>2020</td>\n",
       "      <td>0.31</td>\n",
       "      <td>12250</td>\n",
       "      <td>3751</td>\n",
       "    </tr>\n",
       "    <tr>\n",
       "      <th>6</th>\n",
       "      <td>summer</td>\n",
       "      <td>2015</td>\n",
       "      <td>0.25</td>\n",
       "      <td>6165</td>\n",
       "      <td>1526</td>\n",
       "    </tr>\n",
       "    <tr>\n",
       "      <th>7</th>\n",
       "      <td>summer</td>\n",
       "      <td>2016</td>\n",
       "      <td>0.30</td>\n",
       "      <td>12326</td>\n",
       "      <td>3679</td>\n",
       "    </tr>\n",
       "    <tr>\n",
       "      <th>8</th>\n",
       "      <td>summer</td>\n",
       "      <td>2017</td>\n",
       "      <td>0.36</td>\n",
       "      <td>10220</td>\n",
       "      <td>3710</td>\n",
       "    </tr>\n",
       "    <tr>\n",
       "      <th>9</th>\n",
       "      <td>summer</td>\n",
       "      <td>2018</td>\n",
       "      <td>0.25</td>\n",
       "      <td>6153</td>\n",
       "      <td>1514</td>\n",
       "    </tr>\n",
       "    <tr>\n",
       "      <th>10</th>\n",
       "      <td>summer</td>\n",
       "      <td>2019</td>\n",
       "      <td>0.28</td>\n",
       "      <td>18441</td>\n",
       "      <td>5191</td>\n",
       "    </tr>\n",
       "    <tr>\n",
       "      <th>11</th>\n",
       "      <td>summer</td>\n",
       "      <td>2020</td>\n",
       "      <td>0.35</td>\n",
       "      <td>10159</td>\n",
       "      <td>3548</td>\n",
       "    </tr>\n",
       "    <tr>\n",
       "      <th>12</th>\n",
       "      <td>autumn</td>\n",
       "      <td>2015</td>\n",
       "      <td>0.17</td>\n",
       "      <td>5845</td>\n",
       "      <td>985</td>\n",
       "    </tr>\n",
       "    <tr>\n",
       "      <th>13</th>\n",
       "      <td>autumn</td>\n",
       "      <td>2016</td>\n",
       "      <td>0.28</td>\n",
       "      <td>10137</td>\n",
       "      <td>2823</td>\n",
       "    </tr>\n",
       "    <tr>\n",
       "      <th>14</th>\n",
       "      <td>autumn</td>\n",
       "      <td>2017</td>\n",
       "      <td>NaN</td>\n",
       "      <td>0</td>\n",
       "      <td>0</td>\n",
       "    </tr>\n",
       "    <tr>\n",
       "      <th>15</th>\n",
       "      <td>autumn</td>\n",
       "      <td>2018</td>\n",
       "      <td>0.17</td>\n",
       "      <td>5845</td>\n",
       "      <td>985</td>\n",
       "    </tr>\n",
       "    <tr>\n",
       "      <th>16</th>\n",
       "      <td>autumn</td>\n",
       "      <td>2019</td>\n",
       "      <td>0.24</td>\n",
       "      <td>15946</td>\n",
       "      <td>3796</td>\n",
       "    </tr>\n",
       "    <tr>\n",
       "      <th>17</th>\n",
       "      <td>autumn</td>\n",
       "      <td>2020</td>\n",
       "      <td>NaN</td>\n",
       "      <td>0</td>\n",
       "      <td>0</td>\n",
       "    </tr>\n",
       "    <tr>\n",
       "      <th>18</th>\n",
       "      <td>winter</td>\n",
       "      <td>2015</td>\n",
       "      <td>0.23</td>\n",
       "      <td>853</td>\n",
       "      <td>192</td>\n",
       "    </tr>\n",
       "    <tr>\n",
       "      <th>19</th>\n",
       "      <td>winter</td>\n",
       "      <td>2016</td>\n",
       "      <td>0.22</td>\n",
       "      <td>8020</td>\n",
       "      <td>1775</td>\n",
       "    </tr>\n",
       "    <tr>\n",
       "      <th>20</th>\n",
       "      <td>winter</td>\n",
       "      <td>2017</td>\n",
       "      <td>0.27</td>\n",
       "      <td>8428</td>\n",
       "      <td>2256</td>\n",
       "    </tr>\n",
       "    <tr>\n",
       "      <th>21</th>\n",
       "      <td>winter</td>\n",
       "      <td>2018</td>\n",
       "      <td>0.23</td>\n",
       "      <td>853</td>\n",
       "      <td>192</td>\n",
       "    </tr>\n",
       "    <tr>\n",
       "      <th>22</th>\n",
       "      <td>winter</td>\n",
       "      <td>2019</td>\n",
       "      <td>0.23</td>\n",
       "      <td>8665</td>\n",
       "      <td>1976</td>\n",
       "    </tr>\n",
       "    <tr>\n",
       "      <th>23</th>\n",
       "      <td>winter</td>\n",
       "      <td>2020</td>\n",
       "      <td>0.26</td>\n",
       "      <td>8220</td>\n",
       "      <td>2143</td>\n",
       "    </tr>\n",
       "  </tbody>\n",
       "</table>\n",
       "</div>"
      ],
      "text/plain": [
       "    season  arrival_date_year  cancellation_rate  bookings  cancellations\n",
       "0   spring               2015                NaN         0              0\n",
       "1   spring               2016               0.26     11116           2922\n",
       "2   spring               2017               0.33     12645           4140\n",
       "3   spring               2018                NaN         0              0\n",
       "4   spring               2019               0.26     11117           2927\n",
       "5   spring               2020               0.31     12250           3751\n",
       "6   summer               2015               0.25      6165           1526\n",
       "7   summer               2016               0.30     12326           3679\n",
       "8   summer               2017               0.36     10220           3710\n",
       "9   summer               2018               0.25      6153           1514\n",
       "10  summer               2019               0.28     18441           5191\n",
       "11  summer               2020               0.35     10159           3548\n",
       "12  autumn               2015               0.17      5845            985\n",
       "13  autumn               2016               0.28     10137           2823\n",
       "14  autumn               2017                NaN         0              0\n",
       "15  autumn               2018               0.17      5845            985\n",
       "16  autumn               2019               0.24     15946           3796\n",
       "17  autumn               2020                NaN         0              0\n",
       "18  winter               2015               0.23       853            192\n",
       "19  winter               2016               0.22      8020           1775\n",
       "20  winter               2017               0.27      8428           2256\n",
       "21  winter               2018               0.23       853            192\n",
       "22  winter               2019               0.23      8665           1976\n",
       "23  winter               2020               0.26      8220           2143"
      ]
     },
     "execution_count": 74,
     "metadata": {},
     "output_type": "execute_result"
    }
   ],
   "source": [
    "# Yet, it remains possible that this is in fact a year-effect,\n",
    "# i.e. seasons have no inherent bias towards different cancellation rates, and it is merely the performances of particular year-seasons driving these results\n",
    "# Or, a joint effect\n",
    "# Either way, there is potential confounding\n",
    "\n",
    "# There is not much evidence of a seasonal difference Spring vs Autumn when considering 2016 and 2019 data (the two 'complete' years):\n",
    "    # 26% ( Spring) vs 24% and 28%\n",
    "# Looking more broadly at the seasons though, it is generally true, per year, that Spring and Summer rates > Autumn and Winter.\n",
    "# So, there might indeed be a seasonal impact to some extent, even if not super clear and definite\n",
    "\n",
    "# We may have confidence in a year-effect:\n",
    "# 2015 and 2018 have lower cancellation rates in general than 2016/2019, in turn lower than 2017 and 2020: generally tracks season-by-season\n",
    "\n",
    "df_seasonal_cancellations = df_main.groupby([\"season\", \"arrival_date_year\"]).size().reset_index().rename(columns = {0 : \"bookings\"})\n",
    "\n",
    "df_seasonal_cancellations2 = df_main[[\"season\", \"arrival_date_year\", \"is_canceled\"]].groupby([\"season\", \"arrival_date_year\"])[\"is_canceled\"].sum().reset_index().rename(columns = {\"is_canceled\" : \"cancellations\"})\n",
    "\n",
    "df_seasonal_cancellations = df_seasonal_cancellations.merge(df_seasonal_cancellations2, on = [\"arrival_date_year\", \"season\"])\n",
    "\n",
    "df_seasonal_cancellations[\"cancellation_rate\"] = df_seasonal_cancellations[\"cancellations\"] / df_seasonal_cancellations[\"bookings\"]\n",
    "df_seasonal_cancellations = df_seasonal_cancellations[[\"season\", \"arrival_date_year\", \"cancellation_rate\", \"bookings\", \"cancellations\"]]\n",
    "df_seasonal_cancellations.sort_values(by = [\"season\", \"arrival_date_year\"])"
   ]
  },
  {
   "cell_type": "code",
   "execution_count": 81,
   "metadata": {},
   "outputs": [],
   "source": [
    "# With decent confidence in year-effects (2015/18 < 2016/19 < 2017/20),\n",
    "# and some suspicion of seasonal effects too,\n",
    "# would probably be best to build a classification model e.g. logistic that breaks down the relative contribution of both effects.\n",
    "\n",
    "# That said, time-based analysis is not really the end-goal.\n",
    "# Instead, actually monitarable hence actionable independent variables (market segment, distribution channel, deposit type, lead time) and how they impact cancellation rates.\n",
    "# A simple approach (don't build model) to assess the impact of categories/values within these more interesting independent variables is to just do this per period.\n",
    "    # E.g. in 2015-Winter, how did the market segments compare? What about Spring 2016? Etc repeat as needed.\n",
    "    # In an ideal case, in each and every period, market segment X would have higher rate --> can conclude something definit about this segment\n",
    "    # Also, might be able to deduce that the period-effect is in fact a segment-effect, e.g. in Autumn 2017, the cancellation rate of segment F shot up (and was of significant magnitude)\n",
    "    # If all segments rise and fall in accordance with observed period-effects, can even get away with suggesting this effect is shared by segments, therefore not a confounding factor (with caution...)\n",
    "\n",
    "# Still, scientifically finding coefficients for year and season effects would help especially if doing an across-time analysis (not constrained to period-by-period views),\n",
    "# as it would enable appropriate weighting of segments based on relative seasonal/yyyy-seasonal representation"
   ]
  },
  {
   "cell_type": "code",
   "execution_count": 79,
   "metadata": {},
   "outputs": [],
   "source": [
    "# # Consistently, the City Hotel has a higher cancellation rate than the Resort Hotel,\n",
    "# # and the seasonal effect is also observed again\n",
    "# df_seasonal_cancellations_by_hotel = df_main.groupby([\"season\", \"hotel\"]).size().reset_index().rename(columns = {0 : \"bookings\"})\n",
    "\n",
    "# df_seasonal_cancellations_by_hotel2 = df_main[[\"season\", \"hotel\", \"is_canceled\"]].groupby([\"season\", \"hotel\"])[\"is_canceled\"].sum().reset_index().rename(columns = {\"is_canceled\" : \"cancellations\"})\n",
    "\n",
    "# df_seasonal_cancellations_by_hotel = df_seasonal_cancellations_by_hotel.merge(df_seasonal_cancellations_by_hotel2, on = [\"season\", \"hotel\"])\n",
    "\n",
    "# df_seasonal_cancellations_by_hotel[\"cancellation_rate\"] = df_seasonal_cancellations_by_hotel[\"cancellations\"] / df_seasonal_cancellations_by_hotel[\"bookings\"]\n",
    "\n",
    "# df_seasonal_cancellations_by_hotel = df_seasonal_cancellations_by_hotel[[\"season\", \"hotel\", \"cancellation_rate\", \"bookings\", \"cancellations\"]].sort_values(by = \"season\")\n",
    "# df_seasonal_cancellations_by_hotel"
   ]
  },
  {
   "cell_type": "code",
   "execution_count": 82,
   "metadata": {},
   "outputs": [],
   "source": [
    "# ignore below need to do by year-season"
   ]
  },
  {
   "cell_type": "markdown",
   "metadata": {},
   "source": [
    "df_seasonal_cancellations_by_distrib = df_main.groupby([\"season\", \"distribution_channel\"]).size().reset_index().rename(columns = {0 : \"bookings\"})\n",
    "\n",
    "df_seasonal_cancellations_by_distrib2 = df_main[[\"season\", \"distribution_channel\", \"is_canceled\"]].groupby([\"season\", \"distribution_channel\"])[\"is_canceled\"].sum().reset_index().rename(columns = {\"is_canceled\" : \"cancellations\"})\n",
    "\n",
    "df_seasonal_cancellations_by_distrib = df_seasonal_cancellations_by_distrib.merge(df_seasonal_cancellations_by_distrib2, on = [\"season\", \"distribution_channel\"])\n",
    "\n",
    "df_seasonal_cancellations_by_distrib[\"cancellation_rate\"] = df_seasonal_cancellations_by_distrib[\"cancellations\"] / df_seasonal_cancellations_by_distrib[\"bookings\"]\n",
    "\n",
    "df_seasonal_cancellations_by_distrib = df_seasonal_cancellations_by_distrib[[\"season\", \"distribution_channel\", \"cancellation_rate\", \"bookings\", \"cancellations\"]].sort_values(by = [\"season\", \"distribution_channel\"])\n",
    "df_seasonal_cancellations_by_distrib"
   ]
  },
  {
   "cell_type": "markdown",
   "metadata": {},
   "source": [
    "df_seasonal_cancellations_by_mrkt = df_main.groupby([\"season\", \"market_segment\"]).size().reset_index().rename(columns = {0 : \"bookings\"})\n",
    "\n",
    "df_seasonal_cancellations_by_mrkt2 = df_main[[\"season\", \"market_segment\", \"is_canceled\"]].groupby([\"season\", \"market_segment\"])[\"is_canceled\"].sum().reset_index().rename(columns = {\"is_canceled\" : \"cancellations\"})\n",
    "\n",
    "df_seasonal_cancellations_by_mrkt = df_seasonal_cancellations_by_mrkt.merge(df_seasonal_cancellations_by_mrkt2, on = [\"season\", \"market_segment\"])\n",
    "\n",
    "df_seasonal_cancellations_by_mrkt[\"cancellation_rate\"] = df_seasonal_cancellations_by_mrkt[\"cancellations\"] / df_seasonal_cancellations_by_mrkt[\"bookings\"]\n",
    "\n",
    "df_seasonal_cancellations_by_mrkt = df_seasonal_cancellations_by_mrkt[[\"season\", \"market_segment\", \"cancellation_rate\", \"bookings\", \"cancellations\"]].sort_values(by = [\"season\", \"market_segment\"])\n",
    "df_seasonal_cancellations_by_mrkt"
   ]
  },
  {
   "cell_type": "markdown",
   "metadata": {},
   "source": [
    "# Consistently, the City Hotel has a higher cancellation rate than the Resort Hotel,\n",
    "# and the arrival_date_yearal effect is also observed again\n",
    "df_arrival_date_yearal_cancellations_by_hotel = df_main.groupby([\"arrival_date_year\", \"hotel\"]).size().reset_index().rename(columns = {0 : \"bookings\"})\n",
    "\n",
    "df_arrival_date_yearal_cancellations_by_hotel2 = df_main[[\"arrival_date_year\", \"hotel\", \"is_canceled\"]].groupby([\"arrival_date_year\", \"hotel\"])[\"is_canceled\"].sum().reset_index().rename(columns = {\"is_canceled\" : \"cancellations\"})\n",
    "\n",
    "df_arrival_date_yearal_cancellations_by_hotel = df_arrival_date_yearal_cancellations_by_hotel.merge(df_arrival_date_yearal_cancellations_by_hotel2, on = [\"arrival_date_year\", \"hotel\"])\n",
    "\n",
    "df_arrival_date_yearal_cancellations_by_hotel[\"cancellation_rate\"] = df_arrival_date_yearal_cancellations_by_hotel[\"cancellations\"] / df_arrival_date_yearal_cancellations_by_hotel[\"bookings\"]\n",
    "\n",
    "df_arrival_date_yearal_cancellations_by_hotel = df_arrival_date_yearal_cancellations_by_hotel[[\"arrival_date_year\", \"hotel\", \"cancellation_rate\", \"bookings\", \"cancellations\"]].sort_values(by = \"arrival_date_year\")\n",
    "df_arrival_date_yearal_cancellations_by_hotel"
   ]
  },
  {
   "cell_type": "markdown",
   "metadata": {},
   "source": [
    "df_arrival_date_yearal_cancellations_by_distrib = df_main.groupby([\"arrival_date_year\", \"distribution_channel\"]).size().reset_index().rename(columns = {0 : \"bookings\"})\n",
    "\n",
    "df_arrival_date_yearal_cancellations_by_distrib2 = df_main[[\"arrival_date_year\", \"distribution_channel\", \"is_canceled\"]].groupby([\"arrival_date_year\", \"distribution_channel\"])[\"is_canceled\"].sum().reset_index().rename(columns = {\"is_canceled\" : \"cancellations\"})\n",
    "\n",
    "df_arrival_date_yearal_cancellations_by_distrib = df_arrival_date_yearal_cancellations_by_distrib.merge(df_arrival_date_yearal_cancellations_by_distrib2, on = [\"arrival_date_year\", \"distribution_channel\"])\n",
    "\n",
    "df_arrival_date_yearal_cancellations_by_distrib[\"cancellation_rate\"] = df_arrival_date_yearal_cancellations_by_distrib[\"cancellations\"] / df_arrival_date_yearal_cancellations_by_distrib[\"bookings\"]\n",
    "\n",
    "df_arrival_date_yearal_cancellations_by_distrib = df_arrival_date_yearal_cancellations_by_distrib[[\"arrival_date_year\", \"distribution_channel\", \"cancellation_rate\", \"bookings\", \"cancellations\"]].sort_values(by = [\"arrival_date_year\", \"distribution_channel\"])\n",
    "df_arrival_date_yearal_cancellations_by_distrib"
   ]
  },
  {
   "cell_type": "markdown",
   "metadata": {},
   "source": [
    "## Cancellations by segment/channel"
   ]
  },
  {
   "cell_type": "markdown",
   "metadata": {},
   "source": [
    "- https://www.siteminder.com/r/hotel-distribution-concepts-best-practice/\n",
    "- A hotel distribution channel can be any method or platform by which your hotel sells its rooms.\n",
    "\n",
    "- vs market_segment = customer profiling\n",
    "\n",
    "- E.g. 'direct' market_segment refers to customer booking directly for themselves, as opposed to for a group tour or corporate,<br>whilst 'direct' distribution_channel refers to the rooms having been booked via the hotel website / walk-in / similar direct action\n",
    "\n",
    "- For whatever reason, distribution_channel data here doesn't distinguish offline/online, but can still try seeing any patterns across the existing channels given"
   ]
  },
  {
   "cell_type": "markdown",
   "metadata": {},
   "source": [
    "df_main[['distribution_channel', 'market_segment']].drop_duplicates().sort_values(by = [\"distribution_channel\", \"market_segment\"]).reset_index(drop = True)\n"
   ]
  },
  {
   "cell_type": "code",
   "execution_count": null,
   "metadata": {},
   "outputs": [],
   "source": []
  },
  {
   "cell_type": "code",
   "execution_count": 83,
   "metadata": {},
   "outputs": [],
   "source": [
    "# Ignore below needs revision"
   ]
  },
  {
   "cell_type": "markdown",
   "metadata": {},
   "source": [
    "# Revenue Analysis"
   ]
  },
  {
   "cell_type": "markdown",
   "metadata": {},
   "source": [
    "## Revenue Analysis Prelim"
   ]
  },
  {
   "cell_type": "markdown",
   "metadata": {},
   "source": [
    "# Revenue associated with booking of rooms\n",
    "df_main[\"room_revenue\"] = df_main[\"nights\"] * df_main[\"adr\"]\n",
    "df_main[[\"room_revenue\", \"nights\", \"adr\"]].head(10)"
   ]
  },
  {
   "cell_type": "markdown",
   "metadata": {},
   "source": [
    "# Revenue associated with meal booked\n",
    "# Assume that 'SC' meals (self-catered) are not priced in error, despite somehow being more expensive that full-board FB meals\n",
    "# Assume meals apply per day per non-baby pax - unlikely, but there is a lack of information on exact approach used\n",
    "    #  Whereby days = nights + 1\n",
    "df_meal_cost"
   ]
  },
  {
   "cell_type": "markdown",
   "metadata": {},
   "source": [
    "df_main = pd.merge(df_main, df_meal_cost, on = \"meal\", how = \"left\").merge(df_market_segment, on = \"market_segment\").rename(columns = {\"Cost\" : \"meal_cost\", \"Discount\" : \"discount\"})\n",
    "df_main.head(10)"
   ]
  },
  {
   "cell_type": "markdown",
   "metadata": {},
   "source": [
    "\n",
    "df_main[\"meal_revenue\"] = (df_main.nights + 1) * df_main.meal_cost * (df_main.pax - df_main.babies)\n",
    "df_main[[\"meal_revenue\", \"nights\", \"pax\", \"babies\", \"meal_cost\"]].head(10)\n"
   ]
  },
  {
   "cell_type": "markdown",
   "metadata": {},
   "source": [
    "df_main.groupby(\"deposit_type\").size()"
   ]
  },
  {
   "cell_type": "markdown",
   "metadata": {},
   "source": [
    "# Assume discount applied to overall price of booking\n",
    "# Assume no revenue at all collected for cancellation if deposit_type in (\"No Deposit\", \"Refundable\"), but 100% kept if it was \"Non Refund\"\n",
    "\n",
    "# Although booking revenue assumed zero for cancelled, still calculate the would-be revenue, to enable a view on unmaterialised / lost revenue\n",
    "# Just filter out later in actual analysis\n",
    "\n",
    "df_main[\"booking_revenue\"] = (df_main.meal_revenue + df_main.room_revenue) * (1 - df_main.discount)\n",
    "\n",
    "df_main[[\"is_canceled\", \"booking_revenue\", \"meal_revenue\", \"room_revenue\", \"discount\"]].head(10)\n",
    "\n",
    "# if df_main[\"is_canceled\"] == 1:\n",
    "#     df_main[\"booking_revenue\"] = 0\n",
    "# elif df_main[\"is_canceled\"] == 0:\n",
    "#     df_main[\"booking_revenue\"] = round(((df_main.meal_revenue + df_main.room_revenue) * (1 - df_main.discount)), 2)\n",
    "# Above doesn't work as the if conditions produce a series (each row - is the condition True or False?),\n",
    "# but we instead want to be processing the logic row by row\n",
    "\n",
    "# df_main[\"booking_revenue\"] = np.where(df_main[\"is_canceled\"] == 1, 0, (df_main.meal_revenue + df_main.room_revenue) * (1 - df_main.discount))\n",
    "# df_main[\"booking_revenue\"] = round(df_main[\"booking_revenue\"], 2)\n"
   ]
  },
  {
   "cell_type": "markdown",
   "metadata": {},
   "source": [
    "df_main_complete = df_main[(df_main.is_canceled == 0) | ((df_main.is_canceled == 1) & (df_main.deposit_type == \"Non Refund\"))]\n",
    "df_main_cancelled = df_main[((df_main.is_canceled == 1) & (df_main.deposit_type != \"Non Refund\"))]\n",
    "print(len(df_main_complete))\n",
    "print(len(df_main_cancelled))\n",
    "print(len(df_main))\n"
   ]
  },
  {
   "cell_type": "markdown",
   "metadata": {},
   "source": [
    "## Revenue Analysis 1 - Overview"
   ]
  },
  {
   "cell_type": "markdown",
   "metadata": {},
   "source": [
    "### Direct comparison"
   ]
  },
  {
   "cell_type": "markdown",
   "metadata": {},
   "source": [
    "df_main_complete.groupby(\"arrival_date_year\", as_index = False)[\"booking_revenue\"].sum()"
   ]
  },
  {
   "cell_type": "markdown",
   "metadata": {},
   "source": [
    "Naturally, 2020 would appear to be lagging behind due to incomplete year. Best to compare YTD and revenue per month"
   ]
  },
  {
   "cell_type": "markdown",
   "metadata": {},
   "source": [
    "### YTD 2019 vs 2020"
   ]
  },
  {
   "cell_type": "markdown",
   "metadata": {},
   "source": [
    "# Check to be sure we end on August 31, and don't have to instead select a particular day\n",
    "df_main[(df_main.arrival_date_month == 8) &(df_main.arrival_date_year == 2020)].groupby(\"arrival_date_month\")[\"arrival_date_day_of_month\"].max()"
   ]
  },
  {
   "cell_type": "markdown",
   "metadata": {},
   "source": [
    "df_2019_vs_2020 = df_main_complete[(df_main_complete.arrival_date_month < 9) & df_main_complete.arrival_date_year.between(2019, 2020)].reset_index(drop = True)\n",
    "df_YTD_2020_revenue = df_2019_vs_2020.groupby([\"arrival_date_year\"])[\"booking_revenue\"].sum().reset_index().rename(columns = {\"arrival_date_year\" : \"YTD\"})\n",
    "df_YTD_2020_revenue"
   ]
  },
  {
   "cell_type": "markdown",
   "metadata": {},
   "source": [
    "print(df_YTD_2020_revenue[\"booking_revenue\"].loc[1] - df_YTD_2020_revenue[\"booking_revenue\"].loc[0])\n",
    "print((df_YTD_2020_revenue[\"booking_revenue\"].loc[1] - df_YTD_2020_revenue[\"booking_revenue\"].loc[0]) / df_YTD_2020_revenue[\"booking_revenue\"].loc[0])\n",
    "\n",
    "# The % change in equivalent time period 2020 vs 2019 is -1.2%\n",
    "# Arguably this is not a huge issue, but depends on context etc. Investigate more later"
   ]
  },
  {
   "cell_type": "markdown",
   "metadata": {},
   "source": [
    "### YTD 2018 vs 2019"
   ]
  },
  {
   "cell_type": "markdown",
   "metadata": {},
   "source": [
    "# Check to be sure we start on July 01, and don't have to instead select a particular day\n",
    "\n",
    "print(df_main[\"arrival_date_month\"][(df_main.arrival_date_year == 2018)].min())\n",
    "\n",
    "df_main[(df_main.arrival_date_month == 7) &(df_main.arrival_date_year == 2018)].groupby(\"arrival_date_month\")[\"arrival_date_day_of_month\"].min()"
   ]
  },
  {
   "cell_type": "markdown",
   "metadata": {},
   "source": [
    "df_2018_vs_2019 = df_main_complete[(df_main.arrival_date_month > 7) & df_main.arrival_date_year.between(2018, 2019)].reset_index(drop = True)\n",
    "df_YTD_2018_revenue = df_2018_vs_2019.groupby([\"arrival_date_year\"])[\"booking_revenue\"].sum().reset_index().rename(columns = {\"arrival_date_year\" : \"YTD\"})\n",
    "df_YTD_2018_revenue"
   ]
  },
  {
   "cell_type": "markdown",
   "metadata": {},
   "source": [
    "print(df_YTD_2018_revenue[\"booking_revenue\"].loc[1] - df_YTD_2018_revenue[\"booking_revenue\"].loc[0])\n",
    "print((df_YTD_2018_revenue[\"booking_revenue\"].loc[1] - df_YTD_2018_revenue[\"booking_revenue\"].loc[0]) / df_YTD_2018_revenue[\"booking_revenue\"].loc[0])\n",
    "\n",
    "# The % change in equivalent time period 2019 vs 2018 is +154.1%"
   ]
  },
  {
   "cell_type": "markdown",
   "metadata": {},
   "source": [
    "### Revenue per Month from completed bookings, 2018 - 2020"
   ]
  },
  {
   "cell_type": "markdown",
   "metadata": {},
   "source": [
    "df_revenue = df_main_complete.groupby([\"arrival_date_year\", \"arrival_date_month\", \"hotel\"], as_index = False)[\"booking_revenue\"].sum().rename(columns = {\"booking_revenue\" : \"revenue_per_ym_by_type\"})\n",
    "df_revenue = df_revenue.merge(df_months_per_year, on = \"arrival_date_year\")\n",
    "\n",
    "# Split by hotel type:\n",
    "df_revenue[\"revenue_per_y_by_type\"] = df_revenue.groupby([\"arrival_date_year\", \"hotel\"])[\"revenue_per_ym_by_type\"].transform(\"sum\")\n",
    "df_revenue[\"avg_revenue_per_m_by_y_by_type\"] = round(((df_revenue[\"revenue_per_y_by_type\"] / df_revenue[\"count_months_covered\"])), 2)\n",
    "\n",
    "# Irrespective of hotel type:\n",
    "df_revenue[\"revenue_per_ym\"] = df_revenue.groupby([\"arrival_date_year\", \"arrival_date_month\"])[\"revenue_per_ym_by_type\"].transform(\"sum\")\n",
    "df_revenue[\"revenue_per_y\"] = df_revenue.groupby(\"arrival_date_year\")[\"revenue_per_ym_by_type\"].transform(\"sum\")\n",
    "df_revenue[\"avg_revenue_per_m_by_y\"] = round(((df_revenue[\"revenue_per_y\"] / df_revenue[\"count_months_covered\"])), 2)\n",
    "\n",
    "# (Check sums before col drop)\n",
    "df_revenue.drop([\"count_months_covered\", \"revenue_per_y\", \"revenue_per_y_by_type\"], axis = 1, inplace=True)\n",
    "df_revenue"
   ]
  },
  {
   "cell_type": "markdown",
   "metadata": {},
   "source": [
    "df_revenue_agg = df_revenue[[\"arrival_date_year\", \"avg_revenue_per_m_by_y\"]].drop_duplicates().reset_index(drop = True)\n",
    "df_revenue_agg"
   ]
  },
  {
   "cell_type": "markdown",
   "metadata": {},
   "source": [
    "# Pandas chart\n",
    "# pd_bar_1 = df_revenue_agg.plot(kind = \"bar\", x = \"arrival_date_year\", y = \"avg_revenue_per_m_by_y\", figsize = (4, 6), title = \"Average Revenue per Month by Year\", legend = None, rot = 0, xlabel = \"Year\", ylabel = \"USD (M)\")\n",
    "\n",
    "# pd_bar_1.get_yaxis().get_offset_text().set_visible(False)\n",
    "# # Suppress the '1e6' label top left"
   ]
  },
  {
   "cell_type": "markdown",
   "metadata": {},
   "source": [
    "ax = plt.subplots(figsize=(4, 6))[1]\n",
    "# plt.subplots() creates tuple with (figure object, axes object), so we assign 'ax' to be the axes object\n",
    "# In another instance, we may instead have wanted to done assigment: fig, ax = plt.subplots(), therefore assigning fig = figure object and ax = axes object\n",
    "ax.get_yaxis().get_offset_text().set_visible(False)\n",
    "# suppress the '1e6' top left label\n",
    "plt.bar(df_revenue_agg['arrival_date_year'], df_revenue_agg['avg_revenue_per_m_by_y'])\n",
    "plt.xticks(df_revenue_agg['arrival_date_year'])\n",
    "plt.xlabel(\"Year\")\n",
    "plt.title(\"Average Revenue per Month by Year\")\n",
    "plt.ylabel(\"USD (M)\")\n",
    "# plt.grid(visible = True, axis = \"y\")\n",
    "plt.show()\n"
   ]
  },
  {
   "cell_type": "markdown",
   "metadata": {},
   "source": [
    "We now see graphically that average revenue from completed bookings per month was comparable in 2019 and 2020, but dramatically less in 2018"
   ]
  },
  {
   "cell_type": "markdown",
   "metadata": {},
   "source": [
    "Revenue Analysis Section 1 wrap-up:<br>\n",
    "1) Avg revenue per month grew drastically 2018 - 19.<br>\n",
    "2) Avg revenue per month then declined slightly YoY 2020"
   ]
  },
  {
   "cell_type": "markdown",
   "metadata": {},
   "source": [
    "To investigate:\n",
    "- Drivers of growth 2019 vs 2018.\n",
    "- Did these same drivers maintain in 2020, or did different combinations come into play?\n",
    "- Attempt to drive insights into whether 2019 and 2020 high relative performance are sustainable or volatile"
   ]
  },
  {
   "cell_type": "markdown",
   "metadata": {},
   "source": [
    "## Revenue Analysis 2 - Drivers 2019 vs 2018"
   ]
  },
  {
   "cell_type": "markdown",
   "metadata": {},
   "source": [
    "### Diagnose number of (completed) bookings vs value of (completed) bookings"
   ]
  },
  {
   "cell_type": "markdown",
   "metadata": {},
   "source": [
    "df_2018_bookings = df_2018_vs_2019.groupby([\"arrival_date_year\", \"arrival_date_month\"]).size().reset_index(name=\"bookings\")\n",
    "\n",
    "# df_2018_bookings = df_2018_bookings.merge(df_revenue, on = [\"arrival_date_year\", \"arrival_date_month\"])[[\"arrival_date_year\", \"arrival_date_month\", \"revenue_per_ym\", \"bookings\"]].drop_duplicates()\n",
    "# df_2018_bookings[\"revenue_per_booking\"] = df_2018_bookings.revenue_per_ym / df_2018_bookings.bookings\n",
    "# df_2018_bookings = df_2018_bookings.pivot(index = \"arrival_date_month\", columns = \"arrival_date_year\", values = [\"bookings\", \"revenue_per_booking\"])\n",
    "# df_2018_bookings[(\"bookings\", \"num_bookings_delta\")] = df_2018_bookings[(\"bookings\", 2019)] - df_2018_bookings[(\"bookings\", 2018)]\n",
    "# df_2018_bookings[(\"revenue_per_booking\", \"booking_rev_delta\")] = df_2018_bookings[(\"revenue_per_booking\", 2019)] - df_2018_bookings[(\"revenue_per_booking\", 2018)]\n",
    "# df_2018_bookings = df_2018_bookings.sort_index(axis=1, level=0)\n",
    "\n",
    "df_2018_bookings_pivot = df_2018_bookings.pivot(index = \"arrival_date_month\", columns = \"arrival_date_year\", values = \"bookings\")\n",
    "df_2018_bookings_pivot.columns.name = \"bookings\"\n",
    "df_2018_bookings_pivot[\"abs_delta\"] = df_2018_bookings_pivot[2019] - df_2018_bookings_pivot[2018]\n",
    "df_2018_bookings_pivot[\"pc_delta\"] = (df_2018_bookings_pivot[2019] - df_2018_bookings_pivot[2018]) / df_2018_bookings_pivot[2018]\n",
    "df_2018_bookings_pivot.loc[\"YTD\", [2018, 2019, \"abs_delta\"]] = df_2018_bookings_pivot.sum()\n",
    "df_2018_bookings_pivot.loc[\"YTD\", [\"pc_delta\"]] = df_2018_bookings_pivot.mean()\n",
    "df_2018_bookings_pivot"
   ]
  },
  {
   "cell_type": "markdown",
   "metadata": {},
   "source": [
    "The revenue gain 2019 vs 2018 is driven strongly by more bookings"
   ]
  },
  {
   "cell_type": "markdown",
   "metadata": {},
   "source": [
    "df_2018_bookings_rev = df_2018_vs_2019.groupby([\"arrival_date_year\", \"arrival_date_month\"])[\"booking_revenue\"].sum().reset_index(name = \"booking_revenue\")\n",
    "\n",
    "df_2018_bookings_rev = df_2018_bookings_rev.merge(df_2018_bookings, on = [\"arrival_date_year\", \"arrival_date_month\"])\n",
    "# df_2018_bookings_rev # check columns ok\n",
    "\n",
    "df_2018_bookings_rev[\"revenue_per_booking\"] = df_2018_bookings_rev.booking_revenue / df_2018_bookings.bookings\n",
    "df_2018_bookings_rev = df_2018_bookings_rev[[\"arrival_date_year\", \"arrival_date_month\", \"revenue_per_booking\"]]\n",
    "\n",
    "df_2018_bookings_rev_pivot = df_2018_bookings_rev.pivot(index = \"arrival_date_month\", columns = \"arrival_date_year\", values = \"revenue_per_booking\")\n",
    "df_2018_bookings_rev_pivot.columns.name = \"revenue_per_booking\"\n",
    "\n",
    "df_2018_bookings_rev_pivot[\"abs_delta\"] = df_2018_bookings_rev_pivot[2019] - df_2018_bookings_rev_pivot[2018]\n",
    "df_2018_bookings_rev_pivot[\"pc_delta\"] = (df_2018_bookings_rev_pivot[2019] - df_2018_bookings_rev_pivot[2018]) / df_2018_bookings_rev_pivot[2018]\n",
    "df_2018_bookings_rev_pivot.loc[\"YTD\", [2018, 2019]] = df_2018_bookings_rev_pivot.sum()\n",
    "df_2018_bookings_rev_pivot.loc[\"YTD\", [\"pc_delta\", \"abs_delta\"]] = df_2018_bookings_rev_pivot.mean()\n",
    "\n",
    "df_2018_bookings_rev_pivot"
   ]
  },
  {
   "cell_type": "markdown",
   "metadata": {},
   "source": [
    "The revenue gain 2019 vs 2018 is driven weakly by more valuable bookings"
   ]
  },
  {
   "cell_type": "markdown",
   "metadata": {},
   "source": [
    "As the 2019 vs 2018 difference is more obviously driven by number of bookings, rather than value of bookings, prioritise looking into this aspect"
   ]
  },
  {
   "cell_type": "markdown",
   "metadata": {},
   "source": [
    "### Investigate drivers of number of (completed / non-refunded) bookings"
   ]
  },
  {
   "cell_type": "markdown",
   "metadata": {},
   "source": [
    "#### By Hotel Type"
   ]
  },
  {
   "cell_type": "markdown",
   "metadata": {},
   "source": [
    "df_2018_bookings_hotel = df_2018_vs_2019.groupby([\"hotel\", \"arrival_date_year\", \"arrival_date_month\"]).size().reset_index(name = \"bookings\")\n",
    "# df_bookings_hotel\n",
    "df_2018_bookings_hotel_pivot = df_2018_bookings_hotel.pivot(index = \"arrival_date_month\", columns = [\"hotel\", \"arrival_date_year\"], values = \"bookings\")\n",
    "\n",
    "df_2018_bookings_hotel_pivot[(\"City Hotel\", \"abs_delta\")] = df_2018_bookings_hotel_pivot[(\"City Hotel\", 2019)] - df_2018_bookings_hotel_pivot[(\"City Hotel\", 2018)]\n",
    "df_2018_bookings_hotel_pivot[(\"Resort Hotel\", \"abs_delta\")] = df_2018_bookings_hotel_pivot[(\"Resort Hotel\", 2019)] - df_2018_bookings_hotel_pivot[(\"Resort Hotel\", 2018)]\n",
    "df_2018_bookings_hotel_pivot[(\"City Hotel\", \"pc_delta\")] = (df_2018_bookings_hotel_pivot[(\"City Hotel\", 2019)] - df_2018_bookings_hotel_pivot[(\"City Hotel\", 2018)]) / df_2018_bookings_hotel_pivot[(\"City Hotel\", 2018)]\n",
    "df_2018_bookings_hotel_pivot[(\"Resort Hotel\", \"pc_delta\")] = (df_2018_bookings_hotel_pivot[(\"Resort Hotel\", 2019)] - df_2018_bookings_hotel_pivot[(\"Resort Hotel\", 2018)]) / df_2018_bookings_hotel_pivot[(\"Resort Hotel\", 2018)]\n",
    "df_2018_bookings_hotel_pivot = df_2018_bookings_hotel_pivot.sort_index(axis=1, level=0)\n",
    "\n",
    "df_2018_bookings_hotel_pivot.loc[\"YTD\", [(\"City Hotel\", 2018), (\"City Hotel\", 2019), (\"City Hotel\", \"abs_delta\"), (\"Resort Hotel\", 2018), (\"Resort Hotel\", 2019), (\"Resort Hotel\", \"abs_delta\") ]] = df_2018_bookings_hotel_pivot.sum()\n",
    "df_2018_bookings_hotel_pivot.loc[\"YTD\", [(\"City Hotel\", \"pc_delta\"), (\"Resort Hotel\", \"pc_delta\")]] = df_2018_bookings_hotel_pivot.mean()\n",
    "\n",
    "df_2018_bookings_hotel_pivot"
   ]
  },
  {
   "cell_type": "markdown",
   "metadata": {},
   "source": [
    "Both hotel types contributed strongly to the increased number of bookings 2019 vs 2018."
   ]
  },
  {
   "cell_type": "markdown",
   "metadata": {},
   "source": [
    "#### By market segment"
   ]
  },
  {
   "cell_type": "markdown",
   "metadata": {},
   "source": [
    "# df_main[[\"market_segment\", \"distribution_channel\"]].\n",
    "# unique can't apply to a dataframe (only a column (series) within)\n",
    "# So:\n",
    "df_main[[\"market_segment\", \"distribution_channel\"]].drop_duplicates().sort_values(by = \"market_segment\").reset_index(drop = True)"
   ]
  },
  {
   "cell_type": "markdown",
   "metadata": {},
   "source": [
    "# df_main_trunc = df_main[[\"arrival_date_year\", \"arrival_date_month\", \"market_segment\", \"distribution_channel\", \"booking_revenue\", \"meal_revenue\", \"room_revenue\", \"discount\"]][(df_main.is_canceled == 0) & (df_main.arrival_date_month < 9) & df_main.arrival_date_year.between(2019, 2020)].reset_index(drop = True)\n",
    "# df_main_trunc.head(10)\n",
    "\n",
    "df_2018_segments = df_2018_vs_2019.groupby([\"market_segment\", \"arrival_date_year\"]).size().reset_index(name = \"bookings\").sort_values(by = [\"arrival_date_year\", \"market_segment\"])\n",
    "df_2018_segments_pivot = df_2018_segments.pivot(index = \"market_segment\", columns = \"arrival_date_year\", values = \"bookings\")\n",
    "df_2018_segments_pivot.fillna(0, inplace = True)\n",
    "df_2018_segments_pivot.fillna(0, inplace = True)\n",
    "df_2018_segments_pivot[\"abs_delta\"] = df_2018_segments_pivot[2019] - df_2018_segments_pivot[2018]\n",
    "df_2018_segments_pivot[\"pc_delta\"] = (df_2018_segments_pivot[2019] - df_2018_segments_pivot[2018]) / df_2018_segments_pivot[2018]\n",
    "df_2018_segments_pivot"
   ]
  },
  {
   "cell_type": "markdown",
   "metadata": {},
   "source": [
    "Market segments across the board contributed to the increased number of bookings 2018 vs 2019.<br>\n",
    "Considering scale and % delta, \"**Online TA**\" was the most critical driver, followed by \"Offline TA/TO\" and \"Direct\".<br>\n",
    "That said, high % delta increase was realised by segments across the board"
   ]
  },
  {
   "cell_type": "markdown",
   "metadata": {},
   "source": [
    "## Revenue Analysis 3 - Drivers 2020 vs (2019 vs 2018)"
   ]
  },
  {
   "cell_type": "markdown",
   "metadata": {},
   "source": [
    "I.e. we know the drivers of stronger performance in 2019 over 2018 were:\n",
    "1) More bookings through both hotel types, arguably more so with City Hotels\n",
    "2) More bookings through all market segments, particular attention due for \"**Online TA**\", \"Offline TA/TO\" and \"Direct\"\n",
    "\n",
    "Meanwhile, these were not particular strong drivers:\n",
    "1) Value per bookings\n",
    "\n",
    "So: given that 2020 YTD revenue performance has almost matched 2019,<br>\n",
    "want to investigate behaviours going into 2020.<br>\n",
    "E.g. market segments: did those key market segments continue to grow? Are there things to note about lead time, rate of cancellation, etc.?\n",
    "E.g. hotels: has the same ratio of city:hotel maintained?\n",
    "\n",
    "But first: see month by month shape of 2020 vs 2019 - look for flags e.g. was 'matching' YoY performance driven by extreme highs at first, then dampened, and therefore we should not expect EoY matching performance?"
   ]
  },
  {
   "cell_type": "markdown",
   "metadata": {},
   "source": [
    "### Revenue Shape"
   ]
  },
  {
   "cell_type": "markdown",
   "metadata": {},
   "source": [
    "df_2020_shape = df_2019_vs_2020.groupby([\"arrival_date_year\", \"arrival_date_month\"], as_index = False)[\"booking_revenue\"].sum()\n",
    "df_2020_shape_pivot = df_2020_shape.pivot(index = \"arrival_date_month\", columns = \"arrival_date_year\", values = \"booking_revenue\")\n",
    "df_2020_shape_pivot.columns.name = \"booking_revenue\"\n",
    "df_2020_shape_pivot"
   ]
  },
  {
   "cell_type": "markdown",
   "metadata": {},
   "source": [
    "Revenue shows no signs of stopping 2020 YTD, in fact it is monotonically rising"
   ]
  },
  {
   "cell_type": "markdown",
   "metadata": {},
   "source": [
    "### Market Segment Behaviour"
   ]
  },
  {
   "cell_type": "markdown",
   "metadata": {},
   "source": [
    "#### Number of Bookings"
   ]
  },
  {
   "cell_type": "markdown",
   "metadata": {},
   "source": [
    "df_2020_segments = df_2019_vs_2020.groupby([\"market_segment\", \"arrival_date_year\"]).size().reset_index(name = \"bookings\").sort_values(by = [\"arrival_date_year\", \"market_segment\"])\n",
    "df_2020_segments_pivot = df_2020_segments.pivot(index = \"market_segment\", columns = \"arrival_date_year\", values = \"bookings\")\n",
    "df_2020_segments_pivot.fillna(0, inplace = True)\n",
    "df_2020_segments_pivot[\"abs_delta\"] = df_2020_segments_pivot[2020] - df_2020_segments_pivot[2019]\n",
    "df_2020_segments_pivot[\"pc_delta\"] = (df_2020_segments_pivot[2020] - df_2020_segments_pivot[2019]) / df_2020_segments_pivot[2019]\n",
    "df_2020_segments_pivot"
   ]
  },
  {
   "cell_type": "markdown",
   "metadata": {},
   "source": [
    "df_2020_segments_prop = df_2019_vs_2020.groupby([\"market_segment\", \"arrival_date_year\"]).size().reset_index(name = \"bookings\").sort_values(by = [\"arrival_date_year\", \"market_segment\"])\n",
    "df_2020_segments_prop_pivot = df_2020_segments_prop.pivot(index = \"market_segment\", columns = \"arrival_date_year\", values = \"bookings\")\n",
    "df_2020_segments_prop_pivot[\"2019_total\"] = df_2020_segments_prop_pivot[2019].sum()\n",
    "df_2020_segments_prop_pivot[\"2019_pc\"] = df_2020_segments_prop_pivot[2019] / df_2020_segments_prop_pivot[\"2019_total\"]\n",
    "df_2020_segments_prop_pivot[\"2020_total\"] = df_2020_segments_prop_pivot[2020].sum()\n",
    "df_2020_segments_prop_pivot[\"2020_pc\"] = df_2020_segments_prop_pivot[2019] / df_2020_segments_prop_pivot[\"2020_total\"]\n",
    "df_2020_segments_prop_pivot = df_2020_segments_prop_pivot[[2019, \"2019_total\", \"2019_pc\", 2020, \"2020_total\", \"2020_pc\"]]\n",
    "df_2020_segments_prop_pivot.columns = pd.MultiIndex.from_tuples([(\"2019\", \"Count\"), (\"2019\", \"Total\"), (\"2019\", \"pc\"), (\"2020\", \"Count\"), (\"2020\", \"Total\"), (\"2020\", \"pc\")])\n",
    "df_2020_segments_prop_pivot"
   ]
  },
  {
   "cell_type": "markdown",
   "metadata": {},
   "source": [
    "- For 2020 YTD vs 2019, the proportion of total number of bookings accountable to each market segment was very comparable\n",
    "- Especially encouraging to see key segment \"Online TA\" hold strong, as well as \"Direct\" (slight losses in 2020 YTD but close to matching 2019 YTD)\n",
    "- However, in df_2020_segments_pivot we see that secondary key segment \"Offline TA/TO\" decreased 36% in 2020 YTD versus 2019 YTD\n",
    "    - This worsened performance of this segment was a large contributor to the overall shortfall in bookings in 2020 YTD.<br>\n",
    "    Calculated elsewhere: it is worth 92% of the overall decline in number of bookings\n",
    "    - As Offline TA/TO commands approx 23% of leads, is worth bolstering support for this\n"
   ]
  },
  {
   "cell_type": "markdown",
   "metadata": {},
   "source": [
    "#### Cancellations"
   ]
  },
  {
   "cell_type": "markdown",
   "metadata": {},
   "source": [
    "First see overall proportion of bookings per year (to-date) cancelled, regardless of refundability"
   ]
  },
  {
   "cell_type": "markdown",
   "metadata": {},
   "source": [
    "# df_main_complete := actually completed or cancelled + non-refundable\n",
    "# df_main := agnostic to refundability\n",
    "\n",
    "# Filter down df_main to appropriate dates and useful cols:\n",
    "\n",
    "df_2019_vs_2020_canc = df_main[[\"arrival_date_year\", \"market_segment\", \"is_canceled\", \"deposit_type\"]][(df_main.arrival_date_month < 9) & df_main.arrival_date_year.between(2019, 2020)].reset_index(drop = True)"
   ]
  },
  {
   "cell_type": "markdown",
   "metadata": {},
   "source": [
    "# Calculate % of bookings per year (to-date) cancelled, regardless of refundability\n",
    "\n",
    "df_2020_segments_canc = df_2019_vs_2020_canc.groupby([\"arrival_date_year\", \"market_segment\"])[\"is_canceled\"].sum().reset_index().rename(columns = {\"is_canceled\" : \"num_cancelled\"})\n",
    "df_2020_segments_canc\n",
    "\n",
    "df_2020_segments_comp = df_2019_vs_2020_canc[df_2019_vs_2020_canc.is_canceled == 0].groupby([\"arrival_date_year\", \"market_segment\"]).size().reset_index().rename(columns = {0 : \"num_complete\"})\n",
    "df_2020_segments_comp\n",
    "\n",
    "df_2020_segments_comp = df_2020_segments_comp.merge(df_2020_segments_canc, on = [\"arrival_date_year\", \"market_segment\"])\n",
    "df_2020_segments_comp[\"booked\"] = df_2020_segments_comp[\"num_complete\"] + df_2020_segments_comp[\"num_cancelled\"]\n",
    "df_2020_segments_comp[\"pc_cancelled\"] =  df_2020_segments_comp[\"num_cancelled\"] / df_2020_segments_comp[\"booked\"]\n",
    "df_2020_segments_comp = df_2020_segments_comp[[\"arrival_date_year\", \"market_segment\", \"num_cancelled\", \"pc_cancelled\"]]\n",
    "df_2020_segments_comp_pivot = df_2020_segments_comp.pivot(index = \"market_segment\", columns = \"arrival_date_year\", values = [\"num_cancelled\", \"pc_cancelled\"])\n",
    "# df_2020_segments_comp_pivot.columns.name = \"cancellation analysis\"\n",
    "df_2020_segments_comp_pivot[(\"pc_cancelled\", \"delta p.p.\")] = df_2020_segments_comp_pivot[(\"pc_cancelled\", 2020)] - df_2020_segments_comp_pivot[(\"pc_cancelled\", 2019)]\n",
    "df_2020_segments_comp_pivot[(\"num_cancelled\", \"delta\")] = df_2020_segments_comp_pivot[(\"num_cancelled\", 2020)] - df_2020_segments_comp_pivot[(\"num_cancelled\", 2019)]\n",
    "df_2020_segments_comp_pivot[(\"num_cancelled\", \"pc_delta\")] = df_2020_segments_comp_pivot[(\"num_cancelled\", \"delta\")] / df_2020_segments_comp_pivot[(\"num_cancelled\", 2019)]\n",
    "\n",
    "df_2020_segments_comp_pivot = df_2020_segments_comp_pivot.sort_index(axis=1, level=0)\n",
    "df_2020_segments_comp_pivot"
   ]
  },
  {
   "cell_type": "markdown",
   "metadata": {},
   "source": [
    "Overall there are more cancelled bookings in 2020 YTD, and this is especially driven by Online TA segment.<br>\n",
    "Calculated elsewhere, 1984/1870 = 106% of the increase in cancellations in 2020 was due to this segment.<br>\n",
    "The scale of numbers implies this might naturally be a segment with greater propensity to cancel (ease of online facilities?),<br>\n",
    "but still, the proportion of cancellations went up 6 p.p. Even if this segment naturally cancels more, should still exercise controls over the proportion doing so."
   ]
  },
  {
   "cell_type": "markdown",
   "metadata": {},
   "source": [
    "Next, analyse with nuance: some cancellations still generate revenue.<br>\n",
    "... Assess 'quality' of completed bookings, i.e. if generates revenue, it is a quality booking"
   ]
  },
  {
   "cell_type": "markdown",
   "metadata": {},
   "source": [
    "# What % of bookings per year (to-date) were 'completed' i.e. generated revenue, i.e. actually completed, or non-refundable?\n",
    "# Reminder: df_2019_vs_2020 is already filtered on date (YTD) and either actually completed, or cancelled but non-refundable\n",
    "\n",
    "df_2020_segments_valuable = df_2019_vs_2020.groupby([\"arrival_date_year\", \"market_segment\"]).size().reset_index().rename(columns = {0 : \"num_generating_revenue\"})\n",
    "\n",
    "df_2020_segments_non_valuable = df_main_cancelled.groupby([\"arrival_date_year\", \"market_segment\"]).size().reset_index().rename(columns = {0 : \"num_not_generating_revenue\"})\n",
    "\n",
    "df_2020_segments_valuable = df_2020_segments_non_valuable.merge(df_2020_segments_valuable, on = [\"arrival_date_year\", \"market_segment\"])\n",
    "\n",
    "df_2020_segments_valuable[\"booked\"] = df_2020_segments_valuable[\"num_generating_revenue\"] + df_2020_segments_valuable[\"num_not_generating_revenue\"]\n",
    "df_2020_segments_valuable[\"pc_generating_revenue\"] = df_2020_segments_valuable[\"num_generating_revenue\"] / df_2020_segments_valuable[\"booked\"]\n",
    "\n",
    "df_2020_segments_valuable = df_2020_segments_valuable[[\"arrival_date_year\", \"market_segment\", \"pc_generating_revenue\"]]\n",
    "df_2020_segments_valuable\n",
    "df_2020_segments_valuable_pivot = df_2020_segments_valuable.pivot(index = \"market_segment\", columns = \"arrival_date_year\", values = \"pc_generating_revenue\")\n",
    "df_2020_segments_valuable_pivot.columns.name = \"% generating revenue\"\n",
    "df_2020_segments_valuable_pivot[\"delta p.p.\"] = df_2020_segments_valuable_pivot[2020] - df_2020_segments_valuable_pivot[2019]\n",
    "df_2020_segments_valuable_pivot"
   ]
  },
  {
   "cell_type": "markdown",
   "metadata": {},
   "source": [
    "The % of bookings which generated revenue increased across all segment types, which is encouraging.<br>\n",
    "Though Online TA had many cancellations, at least those that went through were of higher quality, arguably(*).<br>\n",
    "(*): Bookings that generated revenue through capture of non-refundable deposit are arguably non-sutainable / based on luck. But not necessarily - depends. Whatever the case, analyse next:"
   ]
  },
  {
   "cell_type": "markdown",
   "metadata": {},
   "source": [
    "# What proportion of revenue-generating bookings per segment were categorised as such due to being non-refundable cancellations as opposed to actual completions?\n",
    "# Reminder: df_2019_vs_2020 is already filtered on date (YTD) and either actually completed, or cancelled but non-refundable\n",
    "# I.e. analysis is strictly for revenue-generating bookings, not bookings in YTD overall\n",
    "df_2020_segments_cancel = df_2019_vs_2020.groupby([\"arrival_date_year\", \"market_segment\"])[\"is_canceled\"].sum().reset_index().rename(columns = {\"is_canceled\" : \"num_cancelled\"})\n",
    "# How many of the overall revenue-generating bookings per category (year, segment) were cancelled (generated revenue through capture of non-refundable deposit)?\n",
    "df_2020_segments_size = df_2019_vs_2020.groupby([\"arrival_date_year\", \"market_segment\"]).size().reset_index().rename(columns = {0 : \"size\"})\n",
    "# size := number of bookings per category (year, segment) that generated revenue\n",
    "df_2020_segments_size = df_2020_segments_cancel.merge(df_2020_segments_size, on = [\"arrival_date_year\", \"market_segment\"])\n",
    "\n",
    "df_2020_segments_size[\"pc_cancelled\"] = df_2020_segments_size[\"num_cancelled\"] / df_2020_segments_size[\"size\"]\n",
    "\n",
    "df_2020_segments_size = df_2020_segments_size[[\"arrival_date_year\", \"market_segment\", \"pc_cancelled\"]]\n",
    "df_2020_segments_size_pivot = df_2020_segments_size.pivot(index = \"market_segment\", columns = \"arrival_date_year\", values = \"pc_cancelled\")\n",
    "df_2020_segments_size_pivot.columns.name = \"pc cancelled\"\n",
    "df_2020_segments_size_pivot[\"delta p.p.\"] = df_2020_segments_size_pivot[2020] - df_2020_segments_size_pivot[2019]\n",
    "df_2020_segments_size_pivot"
   ]
  },
  {
   "cell_type": "markdown",
   "metadata": {},
   "source": [
    "The increase in proportion of bookings which are revenue-generating in 2020 YTD as compared to 2019 YTD is not supported by a proportional increase in capture of non-refundable cancellations. This is healthy, as dependency on such a mechanism is based on luck / is non-predicatable.<br>\n",
    "That said, the \"Groups\" segment has respectively 19% then 17% of revenue-generating bookings being this type of cancelled, non-refundable one. Aim to minimise."
   ]
  },
  {
   "cell_type": "markdown",
   "metadata": {},
   "source": [
    "#### Lead Time"
   ]
  },
  {
   "cell_type": "markdown",
   "metadata": {},
   "source": [
    "Lead time := time between making of reservation and actual check-in date.<br>\n",
    "Min = 0, Max = 709 ... assume means days"
   ]
  },
  {
   "cell_type": "markdown",
   "metadata": {},
   "source": [
    "# df_2019_vs_2020[df_2019_vs_2020.lead_time > 0].lead_time.min()\n",
    "df_2019_vs_2020[df_2019_vs_2020.lead_time > 0].lead_time.max()"
   ]
  },
  {
   "cell_type": "markdown",
   "metadata": {},
   "source": [
    "# pd.options.display.max_rows = 450\n",
    "df_2019_vs_2020_all.groupby(\"lead_time\", as_index = False).size()\n",
    "# Take this to mean no outliers, so lead_time.mean() is valid"
   ]
  },
  {
   "cell_type": "markdown",
   "metadata": {},
   "source": [
    "# pd.options.display.max_rows = 50"
   ]
  },
  {
   "cell_type": "markdown",
   "metadata": {},
   "source": [
    "df_2020_segments_lead = df_2019_vs_2020_all.groupby([\"arrival_date_year\", \"is_canceled\", \"market_segment\"])[\"lead_time\"].mean().reset_index().rename(columns = {\"lead_time\" : \"mean_lead_time\"})\n",
    "\n",
    "df_2020_segments_lead_pivot = df_2020_segments_lead.pivot(index= [\"market_segment\", \"is_canceled\"], columns = \"arrival_date_year\", values = \"mean_lead_time\")\n",
    "\n",
    "df_2020_segments_lead_pivot[\"delta\"] = df_2020_segments_lead_pivot[2020] - df_2020_segments_lead_pivot[2019]\n",
    "df_2020_segments_lead_pivot[\"pc_delta\"] = df_2020_segments_lead_pivot[\"delta\"] / df_2020_segments_lead_pivot[2019]\n",
    "\n",
    "df_2020_segments_lead_pivot.columns.name = \"mean_lead_time\"\n",
    "df_2020_segments_lead_pivot"
   ]
  },
  {
   "cell_type": "markdown",
   "metadata": {},
   "source": [
    "For those same important market segments, mean lead time has increased whether for cancellations or completed bookings.<br>\n",
    "Longer lead time for completed bookings --> customers are more confident in their purchasing decision, so this bodes well - they are booking in advance.<br>\n",
    "\n",
    "However, there is also a rising trend of customers that have booked far in advance (long lead time) and cancelled too.<br>\n",
    "Indeed, not only has \"Online TA\" increased in actual number of cancellations and decreased in % completed, but we can now see that their cancelled bookings have longer lead-times on average<br>\n",
    "This overall implies volatility in this market segment.<br>\n",
    "Perhaps consider early booking incentives for non-refundable rates"
   ]
  }
 ],
 "metadata": {
  "kernelspec": {
   "display_name": "Python 3",
   "language": "python",
   "name": "python3"
  },
  "language_info": {
   "codemirror_mode": {
    "name": "ipython",
    "version": 3
   },
   "file_extension": ".py",
   "mimetype": "text/x-python",
   "name": "python",
   "nbconvert_exporter": "python",
   "pygments_lexer": "ipython3",
   "version": "3.13.1"
  }
 },
 "nbformat": 4,
 "nbformat_minor": 2
}
